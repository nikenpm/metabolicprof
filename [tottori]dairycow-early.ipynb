{
 "cells": [
  {
   "cell_type": "code",
   "execution_count": 1,
   "metadata": {},
   "outputs": [
    {
     "name": "stderr",
     "output_type": "stream",
     "text": [
      "/Users/ohwadalab-mac/anaconda3/lib/python3.6/importlib/_bootstrap.py:219: RuntimeWarning: numpy.dtype size changed, may indicate binary incompatibility. Expected 96, got 88\n",
      "  return f(*args, **kwds)\n",
      "/Users/ohwadalab-mac/anaconda3/lib/python3.6/importlib/_bootstrap.py:219: RuntimeWarning: numpy.dtype size changed, may indicate binary incompatibility. Expected 96, got 88\n",
      "  return f(*args, **kwds)\n",
      "/Users/ohwadalab-mac/anaconda3/lib/python3.6/importlib/_bootstrap.py:219: RuntimeWarning: numpy.dtype size changed, may indicate binary incompatibility. Expected 96, got 88\n",
      "  return f(*args, **kwds)\n"
     ]
    }
   ],
   "source": [
    "import pandas as pd\n",
    "from scipy import stats\n",
    "from sklearn.cluster import KMeans\n",
    "import matplotlib.pyplot as plt\n",
    "import seaborn as sns\n",
    "import matplotlib as mpl \n",
    "mpl.style.use('seaborn-whitegrid')"
   ]
  },
  {
   "cell_type": "code",
   "execution_count": 2,
   "metadata": {},
   "outputs": [],
   "source": [
    "df = pd.read_csv('./dairycow-early.csv',sep=',')"
   ]
  },
  {
   "cell_type": "code",
   "execution_count": 3,
   "metadata": {},
   "outputs": [
    {
     "data": {
      "text/html": [
       "<div>\n",
       "<style scoped>\n",
       "    .dataframe tbody tr th:only-of-type {\n",
       "        vertical-align: middle;\n",
       "    }\n",
       "\n",
       "    .dataframe tbody tr th {\n",
       "        vertical-align: top;\n",
       "    }\n",
       "\n",
       "    .dataframe thead th {\n",
       "        text-align: right;\n",
       "    }\n",
       "</style>\n",
       "<table border=\"1\" class=\"dataframe\">\n",
       "  <thead>\n",
       "    <tr style=\"text-align: right;\">\n",
       "      <th></th>\n",
       "      <th>global</th>\n",
       "      <th>cowid</th>\n",
       "      <th>days</th>\n",
       "      <th>TP</th>\n",
       "      <th>ALB</th>\n",
       "      <th>BUN</th>\n",
       "      <th>CHO</th>\n",
       "      <th>GOT</th>\n",
       "      <th>GGT</th>\n",
       "      <th>CA</th>\n",
       "      <th>IP</th>\n",
       "      <th>GLU</th>\n",
       "      <th>NH3</th>\n",
       "      <th>NEFA</th>\n",
       "      <th>BHB</th>\n",
       "    </tr>\n",
       "  </thead>\n",
       "  <tbody>\n",
       "    <tr>\n",
       "      <th>0</th>\n",
       "      <td>863934238</td>\n",
       "      <td>205</td>\n",
       "      <td>31</td>\n",
       "      <td>7.8</td>\n",
       "      <td>3.4</td>\n",
       "      <td>8.0</td>\n",
       "      <td>153</td>\n",
       "      <td>91</td>\n",
       "      <td>20</td>\n",
       "      <td>10.9</td>\n",
       "      <td>4.9</td>\n",
       "      <td>51</td>\n",
       "      <td>109</td>\n",
       "      <td>417</td>\n",
       "      <td>680.4</td>\n",
       "    </tr>\n",
       "    <tr>\n",
       "      <th>1</th>\n",
       "      <td>864770057</td>\n",
       "      <td>62</td>\n",
       "      <td>32</td>\n",
       "      <td>6.8</td>\n",
       "      <td>3.8</td>\n",
       "      <td>11.5</td>\n",
       "      <td>178</td>\n",
       "      <td>67</td>\n",
       "      <td>27</td>\n",
       "      <td>10.5</td>\n",
       "      <td>5.0</td>\n",
       "      <td>54</td>\n",
       "      <td>111</td>\n",
       "      <td>196</td>\n",
       "      <td>601.6</td>\n",
       "    </tr>\n",
       "    <tr>\n",
       "      <th>2</th>\n",
       "      <td>856563216</td>\n",
       "      <td>297</td>\n",
       "      <td>32</td>\n",
       "      <td>7.1</td>\n",
       "      <td>2.8</td>\n",
       "      <td>8.2</td>\n",
       "      <td>161</td>\n",
       "      <td>52</td>\n",
       "      <td>23</td>\n",
       "      <td>10.0</td>\n",
       "      <td>6.6</td>\n",
       "      <td>64</td>\n",
       "      <td>57</td>\n",
       "      <td>189</td>\n",
       "      <td>287.9</td>\n",
       "    </tr>\n",
       "    <tr>\n",
       "      <th>3</th>\n",
       "      <td>1399102221</td>\n",
       "      <td>44</td>\n",
       "      <td>33</td>\n",
       "      <td>7.4</td>\n",
       "      <td>3.6</td>\n",
       "      <td>10.5</td>\n",
       "      <td>211</td>\n",
       "      <td>81</td>\n",
       "      <td>26</td>\n",
       "      <td>10.5</td>\n",
       "      <td>5.8</td>\n",
       "      <td>52</td>\n",
       "      <td>97</td>\n",
       "      <td>374</td>\n",
       "      <td>1108.5</td>\n",
       "    </tr>\n",
       "    <tr>\n",
       "      <th>4</th>\n",
       "      <td>1461212865</td>\n",
       "      <td>87</td>\n",
       "      <td>37</td>\n",
       "      <td>6.9</td>\n",
       "      <td>3.6</td>\n",
       "      <td>10.4</td>\n",
       "      <td>165</td>\n",
       "      <td>76</td>\n",
       "      <td>25</td>\n",
       "      <td>10.4</td>\n",
       "      <td>4.9</td>\n",
       "      <td>54</td>\n",
       "      <td>135</td>\n",
       "      <td>608</td>\n",
       "      <td>648.0</td>\n",
       "    </tr>\n",
       "  </tbody>\n",
       "</table>\n",
       "</div>"
      ],
      "text/plain": [
       "       global  cowid  days   TP  ALB   BUN  CHO  GOT  GGT    CA   IP  GLU  \\\n",
       "0   863934238    205    31  7.8  3.4   8.0  153   91   20  10.9  4.9   51   \n",
       "1   864770057     62    32  6.8  3.8  11.5  178   67   27  10.5  5.0   54   \n",
       "2   856563216    297    32  7.1  2.8   8.2  161   52   23  10.0  6.6   64   \n",
       "3  1399102221     44    33  7.4  3.6  10.5  211   81   26  10.5  5.8   52   \n",
       "4  1461212865     87    37  6.9  3.6  10.4  165   76   25  10.4  4.9   54   \n",
       "\n",
       "   NH3  NEFA     BHB  \n",
       "0  109   417   680.4  \n",
       "1  111   196   601.6  \n",
       "2   57   189   287.9  \n",
       "3   97   374  1108.5  \n",
       "4  135   608   648.0  "
      ]
     },
     "execution_count": 3,
     "metadata": {},
     "output_type": "execute_result"
    }
   ],
   "source": [
    "df.head()"
   ]
  },
  {
   "cell_type": "code",
   "execution_count": 4,
   "metadata": {},
   "outputs": [],
   "source": [
    "df_tr = df"
   ]
  },
  {
   "cell_type": "code",
   "execution_count": 5,
   "metadata": {},
   "outputs": [],
   "source": [
    "#Standardize\n",
    "#Calculate the z score of each value in the sample, \n",
    "#relative to the sample mean and standard deviation.\n",
    "clmns = ['TP','ALB','BUN','GOT', 'GGT', 'CA','IP','GLU','NH3', 'NEFA','BHB']\n",
    "df_tr_std = stats.zscore(df_tr[clmns])"
   ]
  },
  {
   "cell_type": "code",
   "execution_count": 6,
   "metadata": {},
   "outputs": [
    {
     "data": {
      "image/png": "[encoded data removed]",
      "text/plain": [
       "<Figure size 432x288 with 1 Axes>"
      ]
     },
     "metadata": {},
     "output_type": "display_data"
    }
   ],
   "source": [
    "# Elbow method to decide best number of k\n",
    "sse = {}\n",
    "for k in range(1, 10):\n",
    "    kmeans = KMeans(n_clusters=k, max_iter=1000).fit(df_tr_std)\n",
    "    sse[k] = kmeans.inertia_ \n",
    "    # Inertia: Sum of distances of samples to their closest cluster center\n",
    "plt.figure()\n",
    "plt.plot(list(sse.keys()), list(sse.values()))\n",
    "plt.xlabel(\"Number of cluster\")\n",
    "plt.ylabel(\"SSE\")\n",
    "plt.show()"
   ]
  },
  {
   "cell_type": "code",
   "execution_count": 7,
   "metadata": {},
   "outputs": [
    {
     "name": "stdout",
     "output_type": "stream",
     "text": [
      "For n_clusters=2, The Silhouette Coefficient is 0.12907263806137334\n",
      "For n_clusters=3, The Silhouette Coefficient is 0.1208600099990965\n",
      "For n_clusters=4, The Silhouette Coefficient is 0.13826250270038412\n",
      "For n_clusters=5, The Silhouette Coefficient is 0.09368066549926167\n",
      "For n_clusters=6, The Silhouette Coefficient is 0.11187595008739272\n",
      "For n_clusters=7, The Silhouette Coefficient is 0.12794473773316437\n",
      "For n_clusters=8, The Silhouette Coefficient is 0.0994829191637373\n",
      "For n_clusters=9, The Silhouette Coefficient is 0.12269876811066013\n",
      "For n_clusters=10, The Silhouette Coefficient is 0.10698991060783755\n"
     ]
    }
   ],
   "source": [
    "from sklearn.metrics import silhouette_samples, silhouette_score\n",
    "\n",
    "for n_cluster in range(2, 11):\n",
    "    kmeans = KMeans(n_clusters=n_cluster).fit(df_tr_std)\n",
    "    label = kmeans.labels_\n",
    "    sil_coeff = silhouette_score(df_tr_std, label, metric='euclidean')\n",
    "    print(\"For n_clusters={}, The Silhouette Coefficient is {}\".format(n_cluster, sil_coeff))"
   ]
  },
  {
   "cell_type": "code",
   "execution_count": 8,
   "metadata": {},
   "outputs": [],
   "source": [
    "kmeans = KMeans(n_clusters=3, random_state=0).fit(df_tr_std)\n",
    "labels = kmeans.labels_\n"
   ]
  },
  {
   "cell_type": "code",
   "execution_count": 9,
   "metadata": {},
   "outputs": [],
   "source": [
    "df_tr['clusters'] = labels"
   ]
  },
  {
   "cell_type": "code",
   "execution_count": 10,
   "metadata": {},
   "outputs": [],
   "source": [
    "clmns.extend(['clusters'])\n"
   ]
  },
  {
   "cell_type": "code",
   "execution_count": 11,
   "metadata": {},
   "outputs": [
    {
     "data": {
      "text/html": [
       "<div>\n",
       "<style scoped>\n",
       "    .dataframe tbody tr th:only-of-type {\n",
       "        vertical-align: middle;\n",
       "    }\n",
       "\n",
       "    .dataframe tbody tr th {\n",
       "        vertical-align: top;\n",
       "    }\n",
       "\n",
       "    .dataframe thead th {\n",
       "        text-align: right;\n",
       "    }\n",
       "</style>\n",
       "<table border=\"1\" class=\"dataframe\">\n",
       "  <thead>\n",
       "    <tr style=\"text-align: right;\">\n",
       "      <th></th>\n",
       "      <th>global</th>\n",
       "      <th>cowid</th>\n",
       "      <th>days</th>\n",
       "      <th>TP</th>\n",
       "      <th>ALB</th>\n",
       "      <th>BUN</th>\n",
       "      <th>CHO</th>\n",
       "      <th>GOT</th>\n",
       "      <th>GGT</th>\n",
       "      <th>CA</th>\n",
       "      <th>IP</th>\n",
       "      <th>GLU</th>\n",
       "      <th>NH3</th>\n",
       "      <th>NEFA</th>\n",
       "      <th>BHB</th>\n",
       "      <th>clusters</th>\n",
       "    </tr>\n",
       "  </thead>\n",
       "  <tbody>\n",
       "    <tr>\n",
       "      <th>0</th>\n",
       "      <td>863934238</td>\n",
       "      <td>205</td>\n",
       "      <td>31</td>\n",
       "      <td>7.8</td>\n",
       "      <td>3.4</td>\n",
       "      <td>8.0</td>\n",
       "      <td>153</td>\n",
       "      <td>91</td>\n",
       "      <td>20</td>\n",
       "      <td>10.9</td>\n",
       "      <td>4.9</td>\n",
       "      <td>51</td>\n",
       "      <td>109</td>\n",
       "      <td>417</td>\n",
       "      <td>680.4</td>\n",
       "      <td>0</td>\n",
       "    </tr>\n",
       "    <tr>\n",
       "      <th>1</th>\n",
       "      <td>864770057</td>\n",
       "      <td>62</td>\n",
       "      <td>32</td>\n",
       "      <td>6.8</td>\n",
       "      <td>3.8</td>\n",
       "      <td>11.5</td>\n",
       "      <td>178</td>\n",
       "      <td>67</td>\n",
       "      <td>27</td>\n",
       "      <td>10.5</td>\n",
       "      <td>5.0</td>\n",
       "      <td>54</td>\n",
       "      <td>111</td>\n",
       "      <td>196</td>\n",
       "      <td>601.6</td>\n",
       "      <td>0</td>\n",
       "    </tr>\n",
       "    <tr>\n",
       "      <th>2</th>\n",
       "      <td>856563216</td>\n",
       "      <td>297</td>\n",
       "      <td>32</td>\n",
       "      <td>7.1</td>\n",
       "      <td>2.8</td>\n",
       "      <td>8.2</td>\n",
       "      <td>161</td>\n",
       "      <td>52</td>\n",
       "      <td>23</td>\n",
       "      <td>10.0</td>\n",
       "      <td>6.6</td>\n",
       "      <td>64</td>\n",
       "      <td>57</td>\n",
       "      <td>189</td>\n",
       "      <td>287.9</td>\n",
       "      <td>1</td>\n",
       "    </tr>\n",
       "    <tr>\n",
       "      <th>3</th>\n",
       "      <td>1399102221</td>\n",
       "      <td>44</td>\n",
       "      <td>33</td>\n",
       "      <td>7.4</td>\n",
       "      <td>3.6</td>\n",
       "      <td>10.5</td>\n",
       "      <td>211</td>\n",
       "      <td>81</td>\n",
       "      <td>26</td>\n",
       "      <td>10.5</td>\n",
       "      <td>5.8</td>\n",
       "      <td>52</td>\n",
       "      <td>97</td>\n",
       "      <td>374</td>\n",
       "      <td>1108.5</td>\n",
       "      <td>0</td>\n",
       "    </tr>\n",
       "    <tr>\n",
       "      <th>4</th>\n",
       "      <td>1461212865</td>\n",
       "      <td>87</td>\n",
       "      <td>37</td>\n",
       "      <td>6.9</td>\n",
       "      <td>3.6</td>\n",
       "      <td>10.4</td>\n",
       "      <td>165</td>\n",
       "      <td>76</td>\n",
       "      <td>25</td>\n",
       "      <td>10.4</td>\n",
       "      <td>4.9</td>\n",
       "      <td>54</td>\n",
       "      <td>135</td>\n",
       "      <td>608</td>\n",
       "      <td>648.0</td>\n",
       "      <td>0</td>\n",
       "    </tr>\n",
       "    <tr>\n",
       "      <th>5</th>\n",
       "      <td>864142540</td>\n",
       "      <td>48</td>\n",
       "      <td>37</td>\n",
       "      <td>7.3</td>\n",
       "      <td>3.8</td>\n",
       "      <td>8.6</td>\n",
       "      <td>159</td>\n",
       "      <td>85</td>\n",
       "      <td>23</td>\n",
       "      <td>10.4</td>\n",
       "      <td>5.5</td>\n",
       "      <td>58</td>\n",
       "      <td>150</td>\n",
       "      <td>1118</td>\n",
       "      <td>759.4</td>\n",
       "      <td>0</td>\n",
       "    </tr>\n",
       "    <tr>\n",
       "      <th>6</th>\n",
       "      <td>1483811640</td>\n",
       "      <td>65</td>\n",
       "      <td>42</td>\n",
       "      <td>7.1</td>\n",
       "      <td>3.9</td>\n",
       "      <td>8.8</td>\n",
       "      <td>236</td>\n",
       "      <td>78</td>\n",
       "      <td>45</td>\n",
       "      <td>11.5</td>\n",
       "      <td>4.8</td>\n",
       "      <td>63</td>\n",
       "      <td>145</td>\n",
       "      <td>816</td>\n",
       "      <td>543.8</td>\n",
       "      <td>0</td>\n",
       "    </tr>\n",
       "    <tr>\n",
       "      <th>7</th>\n",
       "      <td>1396615953</td>\n",
       "      <td>72</td>\n",
       "      <td>43</td>\n",
       "      <td>7.4</td>\n",
       "      <td>3.7</td>\n",
       "      <td>9.0</td>\n",
       "      <td>162</td>\n",
       "      <td>106</td>\n",
       "      <td>29</td>\n",
       "      <td>10.6</td>\n",
       "      <td>4.5</td>\n",
       "      <td>69</td>\n",
       "      <td>113</td>\n",
       "      <td>726</td>\n",
       "      <td>468.0</td>\n",
       "      <td>0</td>\n",
       "    </tr>\n",
       "    <tr>\n",
       "      <th>8</th>\n",
       "      <td>1432015518</td>\n",
       "      <td>281</td>\n",
       "      <td>43</td>\n",
       "      <td>7.4</td>\n",
       "      <td>3.5</td>\n",
       "      <td>12.0</td>\n",
       "      <td>230</td>\n",
       "      <td>85</td>\n",
       "      <td>44</td>\n",
       "      <td>10.5</td>\n",
       "      <td>5.9</td>\n",
       "      <td>59</td>\n",
       "      <td>55</td>\n",
       "      <td>309</td>\n",
       "      <td>518.5</td>\n",
       "      <td>1</td>\n",
       "    </tr>\n",
       "    <tr>\n",
       "      <th>9</th>\n",
       "      <td>864207157</td>\n",
       "      <td>61</td>\n",
       "      <td>50</td>\n",
       "      <td>7.5</td>\n",
       "      <td>3.3</td>\n",
       "      <td>8.4</td>\n",
       "      <td>153</td>\n",
       "      <td>69</td>\n",
       "      <td>31</td>\n",
       "      <td>11.4</td>\n",
       "      <td>5.5</td>\n",
       "      <td>56</td>\n",
       "      <td>137</td>\n",
       "      <td>206</td>\n",
       "      <td>280.2</td>\n",
       "      <td>1</td>\n",
       "    </tr>\n",
       "    <tr>\n",
       "      <th>10</th>\n",
       "      <td>1405617480</td>\n",
       "      <td>9</td>\n",
       "      <td>52</td>\n",
       "      <td>7.8</td>\n",
       "      <td>3.6</td>\n",
       "      <td>8.8</td>\n",
       "      <td>195</td>\n",
       "      <td>83</td>\n",
       "      <td>31</td>\n",
       "      <td>10.8</td>\n",
       "      <td>5.8</td>\n",
       "      <td>53</td>\n",
       "      <td>182</td>\n",
       "      <td>488</td>\n",
       "      <td>380.2</td>\n",
       "      <td>2</td>\n",
       "    </tr>\n",
       "    <tr>\n",
       "      <th>11</th>\n",
       "      <td>1482211717</td>\n",
       "      <td>38</td>\n",
       "      <td>55</td>\n",
       "      <td>8.1</td>\n",
       "      <td>3.7</td>\n",
       "      <td>18.0</td>\n",
       "      <td>298</td>\n",
       "      <td>98</td>\n",
       "      <td>25</td>\n",
       "      <td>11.4</td>\n",
       "      <td>5.3</td>\n",
       "      <td>62</td>\n",
       "      <td>139</td>\n",
       "      <td>237</td>\n",
       "      <td>572.4</td>\n",
       "      <td>2</td>\n",
       "    </tr>\n",
       "    <tr>\n",
       "      <th>12</th>\n",
       "      <td>1373724340</td>\n",
       "      <td>214</td>\n",
       "      <td>55</td>\n",
       "      <td>7.3</td>\n",
       "      <td>3.6</td>\n",
       "      <td>11.8</td>\n",
       "      <td>216</td>\n",
       "      <td>67</td>\n",
       "      <td>33</td>\n",
       "      <td>10.6</td>\n",
       "      <td>6.9</td>\n",
       "      <td>57</td>\n",
       "      <td>62</td>\n",
       "      <td>126</td>\n",
       "      <td>434.3</td>\n",
       "      <td>1</td>\n",
       "    </tr>\n",
       "    <tr>\n",
       "      <th>13</th>\n",
       "      <td>1406116319</td>\n",
       "      <td>22</td>\n",
       "      <td>56</td>\n",
       "      <td>7.2</td>\n",
       "      <td>3.4</td>\n",
       "      <td>9.7</td>\n",
       "      <td>178</td>\n",
       "      <td>69</td>\n",
       "      <td>37</td>\n",
       "      <td>9.9</td>\n",
       "      <td>7.4</td>\n",
       "      <td>56</td>\n",
       "      <td>132</td>\n",
       "      <td>164</td>\n",
       "      <td>570.4</td>\n",
       "      <td>1</td>\n",
       "    </tr>\n",
       "    <tr>\n",
       "      <th>14</th>\n",
       "      <td>1511626260</td>\n",
       "      <td>225</td>\n",
       "      <td>56</td>\n",
       "      <td>8.0</td>\n",
       "      <td>3.6</td>\n",
       "      <td>9.9</td>\n",
       "      <td>211</td>\n",
       "      <td>64</td>\n",
       "      <td>38</td>\n",
       "      <td>10.7</td>\n",
       "      <td>5.7</td>\n",
       "      <td>65</td>\n",
       "      <td>53</td>\n",
       "      <td>104</td>\n",
       "      <td>417.5</td>\n",
       "      <td>1</td>\n",
       "    </tr>\n",
       "    <tr>\n",
       "      <th>15</th>\n",
       "      <td>1436814124</td>\n",
       "      <td>5</td>\n",
       "      <td>60</td>\n",
       "      <td>7.7</td>\n",
       "      <td>3.2</td>\n",
       "      <td>10.0</td>\n",
       "      <td>166</td>\n",
       "      <td>88</td>\n",
       "      <td>25</td>\n",
       "      <td>12.1</td>\n",
       "      <td>4.4</td>\n",
       "      <td>71</td>\n",
       "      <td>127</td>\n",
       "      <td>171</td>\n",
       "      <td>547.5</td>\n",
       "      <td>1</td>\n",
       "    </tr>\n",
       "    <tr>\n",
       "      <th>16</th>\n",
       "      <td>1461711245</td>\n",
       "      <td>251</td>\n",
       "      <td>65</td>\n",
       "      <td>8.1</td>\n",
       "      <td>3.2</td>\n",
       "      <td>10.6</td>\n",
       "      <td>145</td>\n",
       "      <td>64</td>\n",
       "      <td>24</td>\n",
       "      <td>9.1</td>\n",
       "      <td>5.8</td>\n",
       "      <td>64</td>\n",
       "      <td>45</td>\n",
       "      <td>142</td>\n",
       "      <td>467.2</td>\n",
       "      <td>1</td>\n",
       "    </tr>\n",
       "    <tr>\n",
       "      <th>17</th>\n",
       "      <td>864141871</td>\n",
       "      <td>59</td>\n",
       "      <td>66</td>\n",
       "      <td>7.5</td>\n",
       "      <td>3.9</td>\n",
       "      <td>15.6</td>\n",
       "      <td>175</td>\n",
       "      <td>78</td>\n",
       "      <td>36</td>\n",
       "      <td>11.2</td>\n",
       "      <td>6.2</td>\n",
       "      <td>63</td>\n",
       "      <td>199</td>\n",
       "      <td>193</td>\n",
       "      <td>516.3</td>\n",
       "      <td>2</td>\n",
       "    </tr>\n",
       "    <tr>\n",
       "      <th>18</th>\n",
       "      <td>1513104438</td>\n",
       "      <td>43</td>\n",
       "      <td>67</td>\n",
       "      <td>7.9</td>\n",
       "      <td>3.9</td>\n",
       "      <td>16.7</td>\n",
       "      <td>162</td>\n",
       "      <td>86</td>\n",
       "      <td>37</td>\n",
       "      <td>11.5</td>\n",
       "      <td>6.2</td>\n",
       "      <td>60</td>\n",
       "      <td>148</td>\n",
       "      <td>149</td>\n",
       "      <td>362.2</td>\n",
       "      <td>2</td>\n",
       "    </tr>\n",
       "    <tr>\n",
       "      <th>19</th>\n",
       "      <td>1422815333</td>\n",
       "      <td>1</td>\n",
       "      <td>68</td>\n",
       "      <td>7.1</td>\n",
       "      <td>3.9</td>\n",
       "      <td>10.6</td>\n",
       "      <td>227</td>\n",
       "      <td>68</td>\n",
       "      <td>17</td>\n",
       "      <td>11.7</td>\n",
       "      <td>5.5</td>\n",
       "      <td>59</td>\n",
       "      <td>102</td>\n",
       "      <td>216</td>\n",
       "      <td>458.9</td>\n",
       "      <td>0</td>\n",
       "    </tr>\n",
       "    <tr>\n",
       "      <th>20</th>\n",
       "      <td>1458511810</td>\n",
       "      <td>64</td>\n",
       "      <td>68</td>\n",
       "      <td>7.6</td>\n",
       "      <td>3.5</td>\n",
       "      <td>14.0</td>\n",
       "      <td>181</td>\n",
       "      <td>63</td>\n",
       "      <td>43</td>\n",
       "      <td>10.1</td>\n",
       "      <td>7.1</td>\n",
       "      <td>58</td>\n",
       "      <td>135</td>\n",
       "      <td>244</td>\n",
       "      <td>397.6</td>\n",
       "      <td>1</td>\n",
       "    </tr>\n",
       "    <tr>\n",
       "      <th>21</th>\n",
       "      <td>1511310022</td>\n",
       "      <td>35</td>\n",
       "      <td>70</td>\n",
       "      <td>7.8</td>\n",
       "      <td>3.7</td>\n",
       "      <td>14.0</td>\n",
       "      <td>290</td>\n",
       "      <td>93</td>\n",
       "      <td>46</td>\n",
       "      <td>10.7</td>\n",
       "      <td>7.2</td>\n",
       "      <td>49</td>\n",
       "      <td>149</td>\n",
       "      <td>326</td>\n",
       "      <td>347.8</td>\n",
       "      <td>2</td>\n",
       "    </tr>\n",
       "    <tr>\n",
       "      <th>22</th>\n",
       "      <td>1501270497</td>\n",
       "      <td>54</td>\n",
       "      <td>72</td>\n",
       "      <td>7.2</td>\n",
       "      <td>3.7</td>\n",
       "      <td>20.7</td>\n",
       "      <td>187</td>\n",
       "      <td>85</td>\n",
       "      <td>32</td>\n",
       "      <td>10.8</td>\n",
       "      <td>5.6</td>\n",
       "      <td>54</td>\n",
       "      <td>116</td>\n",
       "      <td>391</td>\n",
       "      <td>446.3</td>\n",
       "      <td>2</td>\n",
       "    </tr>\n",
       "    <tr>\n",
       "      <th>23</th>\n",
       "      <td>864142588</td>\n",
       "      <td>60</td>\n",
       "      <td>73</td>\n",
       "      <td>7.7</td>\n",
       "      <td>3.6</td>\n",
       "      <td>13.1</td>\n",
       "      <td>186</td>\n",
       "      <td>73</td>\n",
       "      <td>34</td>\n",
       "      <td>10.6</td>\n",
       "      <td>7.9</td>\n",
       "      <td>50</td>\n",
       "      <td>152</td>\n",
       "      <td>267</td>\n",
       "      <td>334.7</td>\n",
       "      <td>2</td>\n",
       "    </tr>\n",
       "    <tr>\n",
       "      <th>24</th>\n",
       "      <td>1419604346</td>\n",
       "      <td>98</td>\n",
       "      <td>75</td>\n",
       "      <td>6.9</td>\n",
       "      <td>3.5</td>\n",
       "      <td>10.1</td>\n",
       "      <td>305</td>\n",
       "      <td>67</td>\n",
       "      <td>21</td>\n",
       "      <td>10.5</td>\n",
       "      <td>6.3</td>\n",
       "      <td>57</td>\n",
       "      <td>164</td>\n",
       "      <td>210</td>\n",
       "      <td>365.2</td>\n",
       "      <td>1</td>\n",
       "    </tr>\n",
       "    <tr>\n",
       "      <th>25</th>\n",
       "      <td>864142632</td>\n",
       "      <td>57</td>\n",
       "      <td>78</td>\n",
       "      <td>7.6</td>\n",
       "      <td>3.7</td>\n",
       "      <td>12.5</td>\n",
       "      <td>258</td>\n",
       "      <td>116</td>\n",
       "      <td>24</td>\n",
       "      <td>10.6</td>\n",
       "      <td>6.1</td>\n",
       "      <td>56</td>\n",
       "      <td>194</td>\n",
       "      <td>132</td>\n",
       "      <td>316.0</td>\n",
       "      <td>2</td>\n",
       "    </tr>\n",
       "    <tr>\n",
       "      <th>26</th>\n",
       "      <td>862968449</td>\n",
       "      <td>103</td>\n",
       "      <td>79</td>\n",
       "      <td>8.0</td>\n",
       "      <td>3.8</td>\n",
       "      <td>10.1</td>\n",
       "      <td>289</td>\n",
       "      <td>82</td>\n",
       "      <td>42</td>\n",
       "      <td>10.6</td>\n",
       "      <td>2.6</td>\n",
       "      <td>71</td>\n",
       "      <td>110</td>\n",
       "      <td>179</td>\n",
       "      <td>462.2</td>\n",
       "      <td>1</td>\n",
       "    </tr>\n",
       "    <tr>\n",
       "      <th>27</th>\n",
       "      <td>1436725420</td>\n",
       "      <td>79</td>\n",
       "      <td>80</td>\n",
       "      <td>7.1</td>\n",
       "      <td>3.6</td>\n",
       "      <td>17.9</td>\n",
       "      <td>208</td>\n",
       "      <td>97</td>\n",
       "      <td>41</td>\n",
       "      <td>10.4</td>\n",
       "      <td>6.0</td>\n",
       "      <td>61</td>\n",
       "      <td>145</td>\n",
       "      <td>366</td>\n",
       "      <td>417.9</td>\n",
       "      <td>2</td>\n",
       "    </tr>\n",
       "    <tr>\n",
       "      <th>28</th>\n",
       "      <td>1362628666</td>\n",
       "      <td>13</td>\n",
       "      <td>81</td>\n",
       "      <td>7.4</td>\n",
       "      <td>3.4</td>\n",
       "      <td>12.4</td>\n",
       "      <td>253</td>\n",
       "      <td>80</td>\n",
       "      <td>27</td>\n",
       "      <td>11.0</td>\n",
       "      <td>6.7</td>\n",
       "      <td>62</td>\n",
       "      <td>122</td>\n",
       "      <td>129</td>\n",
       "      <td>433.4</td>\n",
       "      <td>1</td>\n",
       "    </tr>\n",
       "    <tr>\n",
       "      <th>29</th>\n",
       "      <td>1373724159</td>\n",
       "      <td>91</td>\n",
       "      <td>81</td>\n",
       "      <td>7.4</td>\n",
       "      <td>3.8</td>\n",
       "      <td>13.3</td>\n",
       "      <td>225</td>\n",
       "      <td>97</td>\n",
       "      <td>38</td>\n",
       "      <td>10.5</td>\n",
       "      <td>4.9</td>\n",
       "      <td>58</td>\n",
       "      <td>187</td>\n",
       "      <td>297</td>\n",
       "      <td>258.5</td>\n",
       "      <td>2</td>\n",
       "    </tr>\n",
       "    <tr>\n",
       "      <th>30</th>\n",
       "      <td>863934320</td>\n",
       "      <td>203</td>\n",
       "      <td>82</td>\n",
       "      <td>7.7</td>\n",
       "      <td>3.4</td>\n",
       "      <td>8.6</td>\n",
       "      <td>255</td>\n",
       "      <td>122</td>\n",
       "      <td>47</td>\n",
       "      <td>10.9</td>\n",
       "      <td>5.8</td>\n",
       "      <td>71</td>\n",
       "      <td>119</td>\n",
       "      <td>237</td>\n",
       "      <td>491.9</td>\n",
       "      <td>1</td>\n",
       "    </tr>\n",
       "    <tr>\n",
       "      <th>31</th>\n",
       "      <td>1361557097</td>\n",
       "      <td>8</td>\n",
       "      <td>83</td>\n",
       "      <td>7.6</td>\n",
       "      <td>3.7</td>\n",
       "      <td>11.6</td>\n",
       "      <td>216</td>\n",
       "      <td>124</td>\n",
       "      <td>36</td>\n",
       "      <td>11.1</td>\n",
       "      <td>5.3</td>\n",
       "      <td>56</td>\n",
       "      <td>134</td>\n",
       "      <td>175</td>\n",
       "      <td>295.5</td>\n",
       "      <td>2</td>\n",
       "    </tr>\n",
       "    <tr>\n",
       "      <th>32</th>\n",
       "      <td>1465611121</td>\n",
       "      <td>7</td>\n",
       "      <td>83</td>\n",
       "      <td>9.2</td>\n",
       "      <td>3.7</td>\n",
       "      <td>12.5</td>\n",
       "      <td>228</td>\n",
       "      <td>93</td>\n",
       "      <td>52</td>\n",
       "      <td>10.2</td>\n",
       "      <td>5.2</td>\n",
       "      <td>38</td>\n",
       "      <td>170</td>\n",
       "      <td>530</td>\n",
       "      <td>415.6</td>\n",
       "      <td>2</td>\n",
       "    </tr>\n",
       "    <tr>\n",
       "      <th>33</th>\n",
       "      <td>1394819711</td>\n",
       "      <td>110</td>\n",
       "      <td>83</td>\n",
       "      <td>7.6</td>\n",
       "      <td>3.5</td>\n",
       "      <td>14.8</td>\n",
       "      <td>234</td>\n",
       "      <td>85</td>\n",
       "      <td>31</td>\n",
       "      <td>11.0</td>\n",
       "      <td>5.7</td>\n",
       "      <td>69</td>\n",
       "      <td>126</td>\n",
       "      <td>154</td>\n",
       "      <td>543.1</td>\n",
       "      <td>1</td>\n",
       "    </tr>\n",
       "    <tr>\n",
       "      <th>34</th>\n",
       "      <td>1437612545</td>\n",
       "      <td>46</td>\n",
       "      <td>84</td>\n",
       "      <td>7.2</td>\n",
       "      <td>3.5</td>\n",
       "      <td>14.4</td>\n",
       "      <td>202</td>\n",
       "      <td>83</td>\n",
       "      <td>48</td>\n",
       "      <td>11.1</td>\n",
       "      <td>5.0</td>\n",
       "      <td>55</td>\n",
       "      <td>185</td>\n",
       "      <td>280</td>\n",
       "      <td>508.9</td>\n",
       "      <td>2</td>\n",
       "    </tr>\n",
       "    <tr>\n",
       "      <th>35</th>\n",
       "      <td>1477034833</td>\n",
       "      <td>47</td>\n",
       "      <td>84</td>\n",
       "      <td>8.5</td>\n",
       "      <td>3.9</td>\n",
       "      <td>17.0</td>\n",
       "      <td>271</td>\n",
       "      <td>78</td>\n",
       "      <td>33</td>\n",
       "      <td>11.1</td>\n",
       "      <td>4.8</td>\n",
       "      <td>62</td>\n",
       "      <td>161</td>\n",
       "      <td>307</td>\n",
       "      <td>387.2</td>\n",
       "      <td>2</td>\n",
       "    </tr>\n",
       "    <tr>\n",
       "      <th>36</th>\n",
       "      <td>1494659514</td>\n",
       "      <td>34</td>\n",
       "      <td>84</td>\n",
       "      <td>7.0</td>\n",
       "      <td>3.5</td>\n",
       "      <td>12.0</td>\n",
       "      <td>246</td>\n",
       "      <td>77</td>\n",
       "      <td>36</td>\n",
       "      <td>11.7</td>\n",
       "      <td>7.5</td>\n",
       "      <td>51</td>\n",
       "      <td>191</td>\n",
       "      <td>126</td>\n",
       "      <td>429.4</td>\n",
       "      <td>2</td>\n",
       "    </tr>\n",
       "    <tr>\n",
       "      <th>37</th>\n",
       "      <td>1417215391</td>\n",
       "      <td>12</td>\n",
       "      <td>85</td>\n",
       "      <td>7.1</td>\n",
       "      <td>3.5</td>\n",
       "      <td>14.3</td>\n",
       "      <td>292</td>\n",
       "      <td>111</td>\n",
       "      <td>27</td>\n",
       "      <td>11.2</td>\n",
       "      <td>5.0</td>\n",
       "      <td>58</td>\n",
       "      <td>115</td>\n",
       "      <td>224</td>\n",
       "      <td>499.4</td>\n",
       "      <td>2</td>\n",
       "    </tr>\n",
       "    <tr>\n",
       "      <th>38</th>\n",
       "      <td>1405617480</td>\n",
       "      <td>9</td>\n",
       "      <td>87</td>\n",
       "      <td>8.4</td>\n",
       "      <td>3.4</td>\n",
       "      <td>10.4</td>\n",
       "      <td>179</td>\n",
       "      <td>75</td>\n",
       "      <td>31</td>\n",
       "      <td>10.4</td>\n",
       "      <td>5.6</td>\n",
       "      <td>61</td>\n",
       "      <td>161</td>\n",
       "      <td>293</td>\n",
       "      <td>328.5</td>\n",
       "      <td>1</td>\n",
       "    </tr>\n",
       "    <tr>\n",
       "      <th>39</th>\n",
       "      <td>1401416254</td>\n",
       "      <td>67</td>\n",
       "      <td>87</td>\n",
       "      <td>7.1</td>\n",
       "      <td>3.6</td>\n",
       "      <td>13.6</td>\n",
       "      <td>229</td>\n",
       "      <td>89</td>\n",
       "      <td>35</td>\n",
       "      <td>10.3</td>\n",
       "      <td>7.1</td>\n",
       "      <td>59</td>\n",
       "      <td>154</td>\n",
       "      <td>137</td>\n",
       "      <td>513.5</td>\n",
       "      <td>2</td>\n",
       "    </tr>\n",
       "    <tr>\n",
       "      <th>40</th>\n",
       "      <td>1373724289</td>\n",
       "      <td>84</td>\n",
       "      <td>88</td>\n",
       "      <td>7.3</td>\n",
       "      <td>3.7</td>\n",
       "      <td>14.8</td>\n",
       "      <td>269</td>\n",
       "      <td>99</td>\n",
       "      <td>38</td>\n",
       "      <td>11.3</td>\n",
       "      <td>5.4</td>\n",
       "      <td>54</td>\n",
       "      <td>144</td>\n",
       "      <td>159</td>\n",
       "      <td>507.6</td>\n",
       "      <td>2</td>\n",
       "    </tr>\n",
       "    <tr>\n",
       "      <th>41</th>\n",
       "      <td>1399917832</td>\n",
       "      <td>148</td>\n",
       "      <td>88</td>\n",
       "      <td>7.4</td>\n",
       "      <td>3.6</td>\n",
       "      <td>15.3</td>\n",
       "      <td>328</td>\n",
       "      <td>79</td>\n",
       "      <td>29</td>\n",
       "      <td>9.4</td>\n",
       "      <td>8.0</td>\n",
       "      <td>43</td>\n",
       "      <td>189</td>\n",
       "      <td>305</td>\n",
       "      <td>661.7</td>\n",
       "      <td>2</td>\n",
       "    </tr>\n",
       "    <tr>\n",
       "      <th>42</th>\n",
       "      <td>1512209752</td>\n",
       "      <td>73</td>\n",
       "      <td>88</td>\n",
       "      <td>7.5</td>\n",
       "      <td>4.0</td>\n",
       "      <td>16.3</td>\n",
       "      <td>221</td>\n",
       "      <td>100</td>\n",
       "      <td>32</td>\n",
       "      <td>11.0</td>\n",
       "      <td>5.5</td>\n",
       "      <td>64</td>\n",
       "      <td>144</td>\n",
       "      <td>295</td>\n",
       "      <td>351.0</td>\n",
       "      <td>2</td>\n",
       "    </tr>\n",
       "    <tr>\n",
       "      <th>43</th>\n",
       "      <td>1416600150</td>\n",
       "      <td>6</td>\n",
       "      <td>89</td>\n",
       "      <td>7.7</td>\n",
       "      <td>3.5</td>\n",
       "      <td>13.3</td>\n",
       "      <td>245</td>\n",
       "      <td>93</td>\n",
       "      <td>37</td>\n",
       "      <td>11.1</td>\n",
       "      <td>6.2</td>\n",
       "      <td>53</td>\n",
       "      <td>121</td>\n",
       "      <td>224</td>\n",
       "      <td>350.4</td>\n",
       "      <td>2</td>\n",
       "    </tr>\n",
       "    <tr>\n",
       "      <th>44</th>\n",
       "      <td>1394819674</td>\n",
       "      <td>50</td>\n",
       "      <td>89</td>\n",
       "      <td>7.3</td>\n",
       "      <td>3.9</td>\n",
       "      <td>15.8</td>\n",
       "      <td>284</td>\n",
       "      <td>119</td>\n",
       "      <td>45</td>\n",
       "      <td>11.6</td>\n",
       "      <td>6.4</td>\n",
       "      <td>49</td>\n",
       "      <td>158</td>\n",
       "      <td>216</td>\n",
       "      <td>598.3</td>\n",
       "      <td>2</td>\n",
       "    </tr>\n",
       "    <tr>\n",
       "      <th>45</th>\n",
       "      <td>1465611121</td>\n",
       "      <td>41</td>\n",
       "      <td>89</td>\n",
       "      <td>7.6</td>\n",
       "      <td>3.6</td>\n",
       "      <td>19.6</td>\n",
       "      <td>319</td>\n",
       "      <td>101</td>\n",
       "      <td>40</td>\n",
       "      <td>11.5</td>\n",
       "      <td>6.9</td>\n",
       "      <td>55</td>\n",
       "      <td>144</td>\n",
       "      <td>171</td>\n",
       "      <td>522.2</td>\n",
       "      <td>2</td>\n",
       "    </tr>\n",
       "    <tr>\n",
       "      <th>46</th>\n",
       "      <td>1501556256</td>\n",
       "      <td>42</td>\n",
       "      <td>89</td>\n",
       "      <td>8.1</td>\n",
       "      <td>3.6</td>\n",
       "      <td>13.9</td>\n",
       "      <td>156</td>\n",
       "      <td>98</td>\n",
       "      <td>52</td>\n",
       "      <td>10.0</td>\n",
       "      <td>4.6</td>\n",
       "      <td>62</td>\n",
       "      <td>222</td>\n",
       "      <td>456</td>\n",
       "      <td>308.0</td>\n",
       "      <td>2</td>\n",
       "    </tr>\n",
       "    <tr>\n",
       "      <th>47</th>\n",
       "      <td>1514410118</td>\n",
       "      <td>63</td>\n",
       "      <td>91</td>\n",
       "      <td>7.0</td>\n",
       "      <td>3.8</td>\n",
       "      <td>14.0</td>\n",
       "      <td>247</td>\n",
       "      <td>76</td>\n",
       "      <td>35</td>\n",
       "      <td>11.3</td>\n",
       "      <td>7.2</td>\n",
       "      <td>58</td>\n",
       "      <td>146</td>\n",
       "      <td>341</td>\n",
       "      <td>256.6</td>\n",
       "      <td>2</td>\n",
       "    </tr>\n",
       "    <tr>\n",
       "      <th>48</th>\n",
       "      <td>1361557226</td>\n",
       "      <td>11</td>\n",
       "      <td>92</td>\n",
       "      <td>8.7</td>\n",
       "      <td>3.7</td>\n",
       "      <td>7.5</td>\n",
       "      <td>303</td>\n",
       "      <td>90</td>\n",
       "      <td>30</td>\n",
       "      <td>11.0</td>\n",
       "      <td>4.4</td>\n",
       "      <td>59</td>\n",
       "      <td>207</td>\n",
       "      <td>599</td>\n",
       "      <td>288.0</td>\n",
       "      <td>2</td>\n",
       "    </tr>\n",
       "    <tr>\n",
       "      <th>49</th>\n",
       "      <td>1505910276</td>\n",
       "      <td>10</td>\n",
       "      <td>93</td>\n",
       "      <td>7.9</td>\n",
       "      <td>4.1</td>\n",
       "      <td>11.0</td>\n",
       "      <td>220</td>\n",
       "      <td>95</td>\n",
       "      <td>30</td>\n",
       "      <td>11.1</td>\n",
       "      <td>6.4</td>\n",
       "      <td>54</td>\n",
       "      <td>122</td>\n",
       "      <td>162</td>\n",
       "      <td>357.3</td>\n",
       "      <td>2</td>\n",
       "    </tr>\n",
       "    <tr>\n",
       "      <th>50</th>\n",
       "      <td>1438312420</td>\n",
       "      <td>2</td>\n",
       "      <td>94</td>\n",
       "      <td>7.4</td>\n",
       "      <td>3.7</td>\n",
       "      <td>13.2</td>\n",
       "      <td>247</td>\n",
       "      <td>82</td>\n",
       "      <td>40</td>\n",
       "      <td>11.3</td>\n",
       "      <td>7.5</td>\n",
       "      <td>48</td>\n",
       "      <td>114</td>\n",
       "      <td>166</td>\n",
       "      <td>462.2</td>\n",
       "      <td>2</td>\n",
       "    </tr>\n",
       "    <tr>\n",
       "      <th>51</th>\n",
       "      <td>864770057</td>\n",
       "      <td>62</td>\n",
       "      <td>95</td>\n",
       "      <td>7.3</td>\n",
       "      <td>3.7</td>\n",
       "      <td>16.2</td>\n",
       "      <td>264</td>\n",
       "      <td>80</td>\n",
       "      <td>38</td>\n",
       "      <td>11.3</td>\n",
       "      <td>6.2</td>\n",
       "      <td>59</td>\n",
       "      <td>137</td>\n",
       "      <td>166</td>\n",
       "      <td>389.3</td>\n",
       "      <td>2</td>\n",
       "    </tr>\n",
       "    <tr>\n",
       "      <th>52</th>\n",
       "      <td>1436814124</td>\n",
       "      <td>5</td>\n",
       "      <td>95</td>\n",
       "      <td>7.0</td>\n",
       "      <td>3.3</td>\n",
       "      <td>13.0</td>\n",
       "      <td>159</td>\n",
       "      <td>88</td>\n",
       "      <td>28</td>\n",
       "      <td>13.5</td>\n",
       "      <td>6.8</td>\n",
       "      <td>58</td>\n",
       "      <td>142</td>\n",
       "      <td>140</td>\n",
       "      <td>355.3</td>\n",
       "      <td>2</td>\n",
       "    </tr>\n",
       "    <tr>\n",
       "      <th>53</th>\n",
       "      <td>1449313898</td>\n",
       "      <td>112</td>\n",
       "      <td>97</td>\n",
       "      <td>7.5</td>\n",
       "      <td>3.3</td>\n",
       "      <td>10.5</td>\n",
       "      <td>227</td>\n",
       "      <td>90</td>\n",
       "      <td>43</td>\n",
       "      <td>10.3</td>\n",
       "      <td>5.1</td>\n",
       "      <td>62</td>\n",
       "      <td>128</td>\n",
       "      <td>164</td>\n",
       "      <td>244.5</td>\n",
       "      <td>1</td>\n",
       "    </tr>\n",
       "    <tr>\n",
       "      <th>54</th>\n",
       "      <td>1401416315</td>\n",
       "      <td>202</td>\n",
       "      <td>97</td>\n",
       "      <td>8.3</td>\n",
       "      <td>3.4</td>\n",
       "      <td>15.8</td>\n",
       "      <td>313</td>\n",
       "      <td>82</td>\n",
       "      <td>37</td>\n",
       "      <td>10.7</td>\n",
       "      <td>7.9</td>\n",
       "      <td>63</td>\n",
       "      <td>60</td>\n",
       "      <td>161</td>\n",
       "      <td>308.8</td>\n",
       "      <td>1</td>\n",
       "    </tr>\n",
       "  </tbody>\n",
       "</table>\n",
       "</div>"
      ],
      "text/plain": [
       "        global  cowid  days   TP  ALB   BUN  CHO  GOT  GGT    CA   IP  GLU  \\\n",
       "0    863934238    205    31  7.8  3.4   8.0  153   91   20  10.9  4.9   51   \n",
       "1    864770057     62    32  6.8  3.8  11.5  178   67   27  10.5  5.0   54   \n",
       "2    856563216    297    32  7.1  2.8   8.2  161   52   23  10.0  6.6   64   \n",
       "3   1399102221     44    33  7.4  3.6  10.5  211   81   26  10.5  5.8   52   \n",
       "4   1461212865     87    37  6.9  3.6  10.4  165   76   25  10.4  4.9   54   \n",
       "5    864142540     48    37  7.3  3.8   8.6  159   85   23  10.4  5.5   58   \n",
       "6   1483811640     65    42  7.1  3.9   8.8  236   78   45  11.5  4.8   63   \n",
       "7   1396615953     72    43  7.4  3.7   9.0  162  106   29  10.6  4.5   69   \n",
       "8   1432015518    281    43  7.4  3.5  12.0  230   85   44  10.5  5.9   59   \n",
       "9    864207157     61    50  7.5  3.3   8.4  153   69   31  11.4  5.5   56   \n",
       "10  1405617480      9    52  7.8  3.6   8.8  195   83   31  10.8  5.8   53   \n",
       "11  1482211717     38    55  8.1  3.7  18.0  298   98   25  11.4  5.3   62   \n",
       "12  1373724340    214    55  7.3  3.6  11.8  216   67   33  10.6  6.9   57   \n",
       "13  1406116319     22    56  7.2  3.4   9.7  178   69   37   9.9  7.4   56   \n",
       "14  1511626260    225    56  8.0  3.6   9.9  211   64   38  10.7  5.7   65   \n",
       "15  1436814124      5    60  7.7  3.2  10.0  166   88   25  12.1  4.4   71   \n",
       "16  1461711245    251    65  8.1  3.2  10.6  145   64   24   9.1  5.8   64   \n",
       "17   864141871     59    66  7.5  3.9  15.6  175   78   36  11.2  6.2   63   \n",
       "18  1513104438     43    67  7.9  3.9  16.7  162   86   37  11.5  6.2   60   \n",
       "19  1422815333      1    68  7.1  3.9  10.6  227   68   17  11.7  5.5   59   \n",
       "20  1458511810     64    68  7.6  3.5  14.0  181   63   43  10.1  7.1   58   \n",
       "21  1511310022     35    70  7.8  3.7  14.0  290   93   46  10.7  7.2   49   \n",
       "22  1501270497     54    72  7.2  3.7  20.7  187   85   32  10.8  5.6   54   \n",
       "23   864142588     60    73  7.7  3.6  13.1  186   73   34  10.6  7.9   50   \n",
       "24  1419604346     98    75  6.9  3.5  10.1  305   67   21  10.5  6.3   57   \n",
       "25   864142632     57    78  7.6  3.7  12.5  258  116   24  10.6  6.1   56   \n",
       "26   862968449    103    79  8.0  3.8  10.1  289   82   42  10.6  2.6   71   \n",
       "27  1436725420     79    80  7.1  3.6  17.9  208   97   41  10.4  6.0   61   \n",
       "28  1362628666     13    81  7.4  3.4  12.4  253   80   27  11.0  6.7   62   \n",
       "29  1373724159     91    81  7.4  3.8  13.3  225   97   38  10.5  4.9   58   \n",
       "30   863934320    203    82  7.7  3.4   8.6  255  122   47  10.9  5.8   71   \n",
       "31  1361557097      8    83  7.6  3.7  11.6  216  124   36  11.1  5.3   56   \n",
       "32  1465611121      7    83  9.2  3.7  12.5  228   93   52  10.2  5.2   38   \n",
       "33  1394819711    110    83  7.6  3.5  14.8  234   85   31  11.0  5.7   69   \n",
       "34  1437612545     46    84  7.2  3.5  14.4  202   83   48  11.1  5.0   55   \n",
       "35  1477034833     47    84  8.5  3.9  17.0  271   78   33  11.1  4.8   62   \n",
       "36  1494659514     34    84  7.0  3.5  12.0  246   77   36  11.7  7.5   51   \n",
       "37  1417215391     12    85  7.1  3.5  14.3  292  111   27  11.2  5.0   58   \n",
       "38  1405617480      9    87  8.4  3.4  10.4  179   75   31  10.4  5.6   61   \n",
       "39  1401416254     67    87  7.1  3.6  13.6  229   89   35  10.3  7.1   59   \n",
       "40  1373724289     84    88  7.3  3.7  14.8  269   99   38  11.3  5.4   54   \n",
       "41  1399917832    148    88  7.4  3.6  15.3  328   79   29   9.4  8.0   43   \n",
       "42  1512209752     73    88  7.5  4.0  16.3  221  100   32  11.0  5.5   64   \n",
       "43  1416600150      6    89  7.7  3.5  13.3  245   93   37  11.1  6.2   53   \n",
       "44  1394819674     50    89  7.3  3.9  15.8  284  119   45  11.6  6.4   49   \n",
       "45  1465611121     41    89  7.6  3.6  19.6  319  101   40  11.5  6.9   55   \n",
       "46  1501556256     42    89  8.1  3.6  13.9  156   98   52  10.0  4.6   62   \n",
       "47  1514410118     63    91  7.0  3.8  14.0  247   76   35  11.3  7.2   58   \n",
       "48  1361557226     11    92  8.7  3.7   7.5  303   90   30  11.0  4.4   59   \n",
       "49  1505910276     10    93  7.9  4.1  11.0  220   95   30  11.1  6.4   54   \n",
       "50  1438312420      2    94  7.4  3.7  13.2  247   82   40  11.3  7.5   48   \n",
       "51   864770057     62    95  7.3  3.7  16.2  264   80   38  11.3  6.2   59   \n",
       "52  1436814124      5    95  7.0  3.3  13.0  159   88   28  13.5  6.8   58   \n",
       "53  1449313898    112    97  7.5  3.3  10.5  227   90   43  10.3  5.1   62   \n",
       "54  1401416315    202    97  8.3  3.4  15.8  313   82   37  10.7  7.9   63   \n",
       "\n",
       "    NH3  NEFA     BHB  clusters  \n",
       "0   109   417   680.4         0  \n",
       "1   111   196   601.6         0  \n",
       "2    57   189   287.9         1  \n",
       "3    97   374  1108.5         0  \n",
       "4   135   608   648.0         0  \n",
       "5   150  1118   759.4         0  \n",
       "6   145   816   543.8         0  \n",
       "7   113   726   468.0         0  \n",
       "8    55   309   518.5         1  \n",
       "9   137   206   280.2         1  \n",
       "10  182   488   380.2         2  \n",
       "11  139   237   572.4         2  \n",
       "12   62   126   434.3         1  \n",
       "13  132   164   570.4         1  \n",
       "14   53   104   417.5         1  \n",
       "15  127   171   547.5         1  \n",
       "16   45   142   467.2         1  \n",
       "17  199   193   516.3         2  \n",
       "18  148   149   362.2         2  \n",
       "19  102   216   458.9         0  \n",
       "20  135   244   397.6         1  \n",
       "21  149   326   347.8         2  \n",
       "22  116   391   446.3         2  \n",
       "23  152   267   334.7         2  \n",
       "24  164   210   365.2         1  \n",
       "25  194   132   316.0         2  \n",
       "26  110   179   462.2         1  \n",
       "27  145   366   417.9         2  \n",
       "28  122   129   433.4         1  \n",
       "29  187   297   258.5         2  \n",
       "30  119   237   491.9         1  \n",
       "31  134   175   295.5         2  \n",
       "32  170   530   415.6         2  \n",
       "33  126   154   543.1         1  \n",
       "34  185   280   508.9         2  \n",
       "35  161   307   387.2         2  \n",
       "36  191   126   429.4         2  \n",
       "37  115   224   499.4         2  \n",
       "38  161   293   328.5         1  \n",
       "39  154   137   513.5         2  \n",
       "40  144   159   507.6         2  \n",
       "41  189   305   661.7         2  \n",
       "42  144   295   351.0         2  \n",
       "43  121   224   350.4         2  \n",
       "44  158   216   598.3         2  \n",
       "45  144   171   522.2         2  \n",
       "46  222   456   308.0         2  \n",
       "47  146   341   256.6         2  \n",
       "48  207   599   288.0         2  \n",
       "49  122   162   357.3         2  \n",
       "50  114   166   462.2         2  \n",
       "51  137   166   389.3         2  \n",
       "52  142   140   355.3         2  \n",
       "53  128   164   244.5         1  \n",
       "54   60   161   308.8         1  "
      ]
     },
     "execution_count": 11,
     "metadata": {},
     "output_type": "execute_result"
    }
   ],
   "source": [
    "df_tr"
   ]
  },
  {
   "cell_type": "code",
   "execution_count": 12,
   "metadata": {},
   "outputs": [],
   "source": [
    "#df_tr.to_csv('./cluster-dairy-early.csv')"
   ]
  },
  {
   "cell_type": "code",
   "execution_count": 13,
   "metadata": {
    "scrolled": true
   },
   "outputs": [
    {
     "data": {
      "text/html": [
       "<div>\n",
       "<style scoped>\n",
       "    .dataframe tbody tr th:only-of-type {\n",
       "        vertical-align: middle;\n",
       "    }\n",
       "\n",
       "    .dataframe tbody tr th {\n",
       "        vertical-align: top;\n",
       "    }\n",
       "\n",
       "    .dataframe thead th {\n",
       "        text-align: right;\n",
       "    }\n",
       "</style>\n",
       "<table border=\"1\" class=\"dataframe\">\n",
       "  <thead>\n",
       "    <tr style=\"text-align: right;\">\n",
       "      <th></th>\n",
       "      <th>TP</th>\n",
       "      <th>ALB</th>\n",
       "      <th>BUN</th>\n",
       "      <th>GOT</th>\n",
       "      <th>GGT</th>\n",
       "      <th>CA</th>\n",
       "      <th>IP</th>\n",
       "      <th>GLU</th>\n",
       "      <th>NH3</th>\n",
       "      <th>NEFA</th>\n",
       "      <th>BHB</th>\n",
       "    </tr>\n",
       "    <tr>\n",
       "      <th>clusters</th>\n",
       "      <th></th>\n",
       "      <th></th>\n",
       "      <th></th>\n",
       "      <th></th>\n",
       "      <th></th>\n",
       "      <th></th>\n",
       "      <th></th>\n",
       "      <th></th>\n",
       "      <th></th>\n",
       "      <th></th>\n",
       "      <th></th>\n",
       "    </tr>\n",
       "  </thead>\n",
       "  <tbody>\n",
       "    <tr>\n",
       "      <th>0</th>\n",
       "      <td>7.225000</td>\n",
       "      <td>3.712500</td>\n",
       "      <td>9.675000</td>\n",
       "      <td>81.500000</td>\n",
       "      <td>26.500000</td>\n",
       "      <td>10.812500</td>\n",
       "      <td>5.112500</td>\n",
       "      <td>57.500000</td>\n",
       "      <td>120.250000</td>\n",
       "      <td>558.875000</td>\n",
       "      <td>658.575000</td>\n",
       "    </tr>\n",
       "    <tr>\n",
       "      <th>1</th>\n",
       "      <td>7.629412</td>\n",
       "      <td>3.400000</td>\n",
       "      <td>11.017647</td>\n",
       "      <td>76.705882</td>\n",
       "      <td>33.941176</td>\n",
       "      <td>10.576471</td>\n",
       "      <td>5.941176</td>\n",
       "      <td>62.705882</td>\n",
       "      <td>105.470588</td>\n",
       "      <td>187.176471</td>\n",
       "      <td>417.570588</td>\n",
       "    </tr>\n",
       "    <tr>\n",
       "      <th>2</th>\n",
       "      <td>7.600000</td>\n",
       "      <td>3.693333</td>\n",
       "      <td>14.330000</td>\n",
       "      <td>92.033333</td>\n",
       "      <td>36.166667</td>\n",
       "      <td>11.020000</td>\n",
       "      <td>6.086667</td>\n",
       "      <td>55.366667</td>\n",
       "      <td>157.033333</td>\n",
       "      <td>267.500000</td>\n",
       "      <td>413.656667</td>\n",
       "    </tr>\n",
       "  </tbody>\n",
       "</table>\n",
       "</div>"
      ],
      "text/plain": [
       "                TP       ALB        BUN        GOT        GGT         CA  \\\n",
       "clusters                                                                   \n",
       "0         7.225000  3.712500   9.675000  81.500000  26.500000  10.812500   \n",
       "1         7.629412  3.400000  11.017647  76.705882  33.941176  10.576471   \n",
       "2         7.600000  3.693333  14.330000  92.033333  36.166667  11.020000   \n",
       "\n",
       "                IP        GLU         NH3        NEFA         BHB  \n",
       "clusters                                                           \n",
       "0         5.112500  57.500000  120.250000  558.875000  658.575000  \n",
       "1         5.941176  62.705882  105.470588  187.176471  417.570588  \n",
       "2         6.086667  55.366667  157.033333  267.500000  413.656667  "
      ]
     },
     "execution_count": 13,
     "metadata": {},
     "output_type": "execute_result"
    }
   ],
   "source": [
    "mean = df_tr[clmns].groupby(['clusters']).mean()\n",
    "mean"
   ]
  },
  {
   "cell_type": "code",
   "execution_count": 14,
   "metadata": {},
   "outputs": [],
   "source": [
    "#mean"
   ]
  },
  {
   "cell_type": "code",
   "execution_count": 15,
   "metadata": {},
   "outputs": [],
   "source": [
    "#mean.to_csv('./mean-dairyearly.csv')"
   ]
  },
  {
   "cell_type": "code",
   "execution_count": 16,
   "metadata": {},
   "outputs": [
    {
     "data": {
      "text/html": [
       "<div>\n",
       "<style scoped>\n",
       "    .dataframe tbody tr th:only-of-type {\n",
       "        vertical-align: middle;\n",
       "    }\n",
       "\n",
       "    .dataframe tbody tr th {\n",
       "        vertical-align: top;\n",
       "    }\n",
       "\n",
       "    .dataframe thead th {\n",
       "        text-align: right;\n",
       "    }\n",
       "</style>\n",
       "<table border=\"1\" class=\"dataframe\">\n",
       "  <thead>\n",
       "    <tr style=\"text-align: right;\">\n",
       "      <th></th>\n",
       "      <th>TP</th>\n",
       "      <th>ALB</th>\n",
       "      <th>BUN</th>\n",
       "      <th>GOT</th>\n",
       "      <th>GGT</th>\n",
       "      <th>CA</th>\n",
       "      <th>IP</th>\n",
       "      <th>GLU</th>\n",
       "      <th>NH3</th>\n",
       "      <th>NEFA</th>\n",
       "      <th>BHB</th>\n",
       "    </tr>\n",
       "    <tr>\n",
       "      <th>clusters</th>\n",
       "      <th></th>\n",
       "      <th></th>\n",
       "      <th></th>\n",
       "      <th></th>\n",
       "      <th></th>\n",
       "      <th></th>\n",
       "      <th></th>\n",
       "      <th></th>\n",
       "      <th></th>\n",
       "      <th></th>\n",
       "      <th></th>\n",
       "    </tr>\n",
       "  </thead>\n",
       "  <tbody>\n",
       "    <tr>\n",
       "      <th>0</th>\n",
       "      <td>0.319598</td>\n",
       "      <td>0.172689</td>\n",
       "      <td>1.229111</td>\n",
       "      <td>12.750350</td>\n",
       "      <td>8.417668</td>\n",
       "      <td>0.513914</td>\n",
       "      <td>0.438952</td>\n",
       "      <td>6.117889</td>\n",
       "      <td>20.190167</td>\n",
       "      <td>319.067139</td>\n",
       "      <td>209.009479</td>\n",
       "    </tr>\n",
       "    <tr>\n",
       "      <th>1</th>\n",
       "      <td>0.417978</td>\n",
       "      <td>0.215058</td>\n",
       "      <td>2.189816</td>\n",
       "      <td>15.794638</td>\n",
       "      <td>8.204195</td>\n",
       "      <td>0.652428</td>\n",
       "      <td>1.226814</td>\n",
       "      <td>5.300527</td>\n",
       "      <td>40.475483</td>\n",
       "      <td>56.956382</td>\n",
       "      <td>101.623606</td>\n",
       "    </tr>\n",
       "    <tr>\n",
       "      <th>2</th>\n",
       "      <td>0.522593</td>\n",
       "      <td>0.168018</td>\n",
       "      <td>2.847522</td>\n",
       "      <td>13.052899</td>\n",
       "      <td>7.216281</td>\n",
       "      <td>0.695503</td>\n",
       "      <td>1.008835</td>\n",
       "      <td>5.991277</td>\n",
       "      <td>29.229748</td>\n",
       "      <td>126.147628</td>\n",
       "      <td>103.619981</td>\n",
       "    </tr>\n",
       "  </tbody>\n",
       "</table>\n",
       "</div>"
      ],
      "text/plain": [
       "                TP       ALB       BUN        GOT       GGT        CA  \\\n",
       "clusters                                                                \n",
       "0         0.319598  0.172689  1.229111  12.750350  8.417668  0.513914   \n",
       "1         0.417978  0.215058  2.189816  15.794638  8.204195  0.652428   \n",
       "2         0.522593  0.168018  2.847522  13.052899  7.216281  0.695503   \n",
       "\n",
       "                IP       GLU        NH3        NEFA         BHB  \n",
       "clusters                                                         \n",
       "0         0.438952  6.117889  20.190167  319.067139  209.009479  \n",
       "1         1.226814  5.300527  40.475483   56.956382  101.623606  \n",
       "2         1.008835  5.991277  29.229748  126.147628  103.619981  "
      ]
     },
     "execution_count": 16,
     "metadata": {},
     "output_type": "execute_result"
    }
   ],
   "source": [
    "std = df_tr[clmns].groupby(['clusters']).std()\n",
    "std"
   ]
  },
  {
   "cell_type": "code",
   "execution_count": 17,
   "metadata": {},
   "outputs": [],
   "source": [
    "std.to_csv('./std1.csv')"
   ]
  },
  {
   "cell_type": "code",
   "execution_count": 18,
   "metadata": {},
   "outputs": [],
   "source": [
    "#df_tr.to_csv('./beforeclust.csv')"
   ]
  },
  {
   "cell_type": "code",
   "execution_count": 19,
   "metadata": {},
   "outputs": [
    {
     "data": {
      "text/plain": [
       "Text(23.72127604166667, 0.5, 'IP')"
      ]
     },
     "execution_count": 19,
     "metadata": {},
     "output_type": "execute_result"
    },
    {
     "data": {
      "image/png": "[encoded data removed]",
      "text/plain": [
       "<Figure size 402.875x360 with 1 Axes>"
      ]
     },
     "metadata": {},
     "output_type": "display_data"
    }
   ],
   "source": [
    "#Scatter plot \n",
    "ax = sns.lmplot('CA', 'IP', \n",
    "          data=df_tr, \n",
    "         fit_reg=False, \n",
    "        hue=\"clusters\",  palette=\"Set1\",\n",
    "       scatter_kws={\"marker\": \"D\", \n",
    "                   \"s\": 50})\n",
    "\n",
    "plt.title('Calcium vs Phosporus (Mineral Metabolism)')\n",
    "plt.xlabel('CA')\n",
    "plt.ylabel('IP')\n"
   ]
  },
  {
   "cell_type": "code",
   "execution_count": 20,
   "metadata": {},
   "outputs": [],
   "source": [
    "#import matplotlib.pyplot as plt\n",
    "#import numpy as np\n",
    "#from mpl_toolkits.mplot3d import Axes3D\n",
    "\n",
    "#from mpl_toolkits.mplot3d import axes3d\n",
    "#import matplotlib.pyplot as plt\n",
    "\n",
    "#fig = plt.figure(figsize=(10, 8))\n",
    "#ax1 = fig.add_subplot(111,projection='3d')\n",
    "\n",
    "#for i in range(len(df_tr)):\n",
    " #   x, y, z = df_tr.iloc[i]['BUN'], df_tr.iloc[i]['ALB'], df_tr.iloc[i]['TP']\n",
    " #   ax1.scatter(x, y, z, c=['blue'])\n",
    "    #now that you have the coordinates you can apply whatever text you need. I'm \n",
    "    #assuming you want the index, but you could also pass a column name if needed\n",
    "#    ax1.text(x, y, z, '{0}'.format(df_tr.iloc[i]['clusters']), size=12)\n",
    "\n",
    "#ax1.set_xlabel('BHB')\n",
    "#ax1.set_ylabel('NEFA')\n",
    "#ax1.set_zlabel('Glucose')   \n",
    "\n",
    "#plt.title('3 clusters of cow before calving period, related to energy')    \n",
    "#ax1.legend('012')\n",
    "#plt.show()"
   ]
  },
  {
   "cell_type": "code",
   "execution_count": 21,
   "metadata": {
    "scrolled": true
   },
   "outputs": [
    {
     "data": {
      "image/png": "[encoded data removed]",
      "text/plain": [
       "<Figure size 576x504 with 1 Axes>"
      ]
     },
     "metadata": {},
     "output_type": "display_data"
    }
   ],
   "source": [
    "import matplotlib as mpl \n",
    "import matplotlib.pyplot as plt\n",
    "import numpy as np\n",
    "from mpl_toolkits.mplot3d import Axes3D\n",
    "mpl.style.use('seaborn-whitegrid')\n",
    "\n",
    "\n",
    "\n",
    "fig = plt.figure(figsize=(8, 7))\n",
    "ax1 = fig.add_subplot(111,projection='3d')\n",
    "\n",
    "colors = ['red', 'blue', 'green', 'purple']\n",
    "for i in range(len(df_tr)):\n",
    "    x, y, z = df_tr.iloc[i]['BHB'], df_tr.iloc[i]['NEFA'], df_tr.iloc[i]['GLU']\n",
    "    ax1.scatter(x, y, z, c=colors[int(df_tr.iloc[i]['clusters'])], alpha = 0.6, linewidths=4, label = 'clusters')\n",
    "    ax1.text(x, y, z, '{0}'.format(df_tr.iloc[i]['cowid'].astype(int)),va='bottom', size=10)\n",
    " \n",
    "    \n",
    "ax1.set_xlabel('BHB')\n",
    "ax1.set_ylabel('NEFA')\n",
    "ax1.set_zlabel('GLU')\n",
    "\n",
    "plt.title('Clusters in early lactation period related to Energy Balance')    \n",
    "plt.show()\n",
    "\n",
    "\n",
    "#for angle in range(0, 360):\n",
    "#    ax1.view_init(300, angle)\n",
    "#    plt.draw()\n",
    "#    plt.pause(.001)"
   ]
  },
  {
   "cell_type": "code",
   "execution_count": 22,
   "metadata": {},
   "outputs": [
    {
     "data": {
      "image/png": "[encoded data removed]",
      "text/plain": [
       "<Figure size 576x504 with 1 Axes>"
      ]
     },
     "metadata": {},
     "output_type": "display_data"
    }
   ],
   "source": [
    "import matplotlib.pyplot as plt\n",
    "import numpy as np\n",
    "from mpl_toolkits.mplot3d import Axes3D\n",
    "\n",
    "from mpl_toolkits.mplot3d import axes3d\n",
    "import matplotlib.pyplot as plt\n",
    "mpl.style.use('seaborn-whitegrid')\n",
    "\n",
    "fig = plt.figure(figsize=(8, 7))\n",
    "ax1 = fig.add_subplot(111,projection='3d')\n",
    "\n",
    "colors = ['red', 'blue', 'green', 'purple']\n",
    "for i in range(len(df_tr)):\n",
    "    x, y, z = df_tr.iloc[i]['TP'], df_tr.iloc[i]['ALB'], df_tr.iloc[i]['BUN']\n",
    "    ax1.scatter(x, y, z, c=colors[int(df_tr.iloc[i]['clusters'])], alpha = 0.6, linewidths=4)\n",
    "    ax1.text(x, y, z, '{0}'.format(df_tr.iloc[i]['cowid'].astype(int)),va='bottom', size=10)\n",
    " \n",
    "    \n",
    "ax1.set_xlabel('TP')\n",
    "ax1.set_ylabel('ALB')\n",
    "ax1.set_zlabel('BUN')\n",
    "\n",
    "\n",
    "plt.title('Clusters in early lactation period related to Protein Status')   \n",
    "plt.show()\n",
    "\n",
    "\n",
    "#for angle in range(0, 360):\n",
    "#     ax1.view_init(10, angle)\n",
    "#     plt.draw()\n",
    "#     plt.pause(.001)"
   ]
  },
  {
   "cell_type": "code",
   "execution_count": 23,
   "metadata": {},
   "outputs": [
    {
     "data": {
      "image/png": "[encoded data removed]",
      "text/plain": [
       "<Figure size 576x504 with 1 Axes>"
      ]
     },
     "metadata": {},
     "output_type": "display_data"
    },
    {
     "data": {
      "text/plain": [
       "<Figure size 432x288 with 0 Axes>"
      ]
     },
     "metadata": {},
     "output_type": "display_data"
    },
    {
     "data": {
      "text/plain": [
       "<Figure size 432x288 with 0 Axes>"
      ]
     },
     "metadata": {},
     "output_type": "display_data"
    },
    {
     "data": {
      "text/plain": [
       "<Figure size 432x288 with 0 Axes>"
      ]
     },
     "metadata": {},
     "output_type": "display_data"
    },
    {
     "data": {
      "text/plain": [
       "<Figure size 432x288 with 0 Axes>"
      ]
     },
     "metadata": {},
     "output_type": "display_data"
    },
    {
     "data": {
      "text/plain": [
       "<Figure size 432x288 with 0 Axes>"
      ]
     },
     "metadata": {},
     "output_type": "display_data"
    },
    {
     "data": {
      "text/plain": [
       "<Figure size 432x288 with 0 Axes>"
      ]
     },
     "metadata": {},
     "output_type": "display_data"
    },
    {
     "data": {
      "text/plain": [
       "<Figure size 432x288 with 0 Axes>"
      ]
     },
     "metadata": {},
     "output_type": "display_data"
    },
    {
     "data": {
      "text/plain": [
       "<Figure size 432x288 with 0 Axes>"
      ]
     },
     "metadata": {},
     "output_type": "display_data"
    },
    {
     "data": {
      "text/plain": [
       "<Figure size 432x288 with 0 Axes>"
      ]
     },
     "metadata": {},
     "output_type": "display_data"
    },
    {
     "data": {
      "text/plain": [
       "<Figure size 432x288 with 0 Axes>"
      ]
     },
     "metadata": {},
     "output_type": "display_data"
    },
    {
     "data": {
      "text/plain": [
       "<Figure size 432x288 with 0 Axes>"
      ]
     },
     "metadata": {},
     "output_type": "display_data"
    },
    {
     "data": {
      "text/plain": [
       "<Figure size 432x288 with 0 Axes>"
      ]
     },
     "metadata": {},
     "output_type": "display_data"
    },
    {
     "data": {
      "text/plain": [
       "<Figure size 432x288 with 0 Axes>"
      ]
     },
     "metadata": {},
     "output_type": "display_data"
    },
    {
     "data": {
      "text/plain": [
       "<Figure size 432x288 with 0 Axes>"
      ]
     },
     "metadata": {},
     "output_type": "display_data"
    },
    {
     "data": {
      "text/plain": [
       "<Figure size 432x288 with 0 Axes>"
      ]
     },
     "metadata": {},
     "output_type": "display_data"
    },
    {
     "data": {
      "text/plain": [
       "<Figure size 432x288 with 0 Axes>"
      ]
     },
     "metadata": {},
     "output_type": "display_data"
    },
    {
     "data": {
      "text/plain": [
       "<Figure size 432x288 with 0 Axes>"
      ]
     },
     "metadata": {},
     "output_type": "display_data"
    },
    {
     "data": {
      "text/plain": [
       "<Figure size 432x288 with 0 Axes>"
      ]
     },
     "metadata": {},
     "output_type": "display_data"
    },
    {
     "data": {
      "text/plain": [
       "<Figure size 432x288 with 0 Axes>"
      ]
     },
     "metadata": {},
     "output_type": "display_data"
    },
    {
     "data": {
      "text/plain": [
       "<Figure size 432x288 with 0 Axes>"
      ]
     },
     "metadata": {},
     "output_type": "display_data"
    },
    {
     "data": {
      "text/plain": [
       "<Figure size 432x288 with 0 Axes>"
      ]
     },
     "metadata": {},
     "output_type": "display_data"
    },
    {
     "data": {
      "text/plain": [
       "<Figure size 432x288 with 0 Axes>"
      ]
     },
     "metadata": {},
     "output_type": "display_data"
    },
    {
     "data": {
      "text/plain": [
       "<Figure size 432x288 with 0 Axes>"
      ]
     },
     "metadata": {},
     "output_type": "display_data"
    },
    {
     "data": {
      "text/plain": [
       "<Figure size 432x288 with 0 Axes>"
      ]
     },
     "metadata": {},
     "output_type": "display_data"
    },
    {
     "data": {
      "text/plain": [
       "<Figure size 432x288 with 0 Axes>"
      ]
     },
     "metadata": {},
     "output_type": "display_data"
    },
    {
     "data": {
      "text/plain": [
       "<Figure size 432x288 with 0 Axes>"
      ]
     },
     "metadata": {},
     "output_type": "display_data"
    },
    {
     "data": {
      "text/plain": [
       "<Figure size 432x288 with 0 Axes>"
      ]
     },
     "metadata": {},
     "output_type": "display_data"
    },
    {
     "data": {
      "text/plain": [
       "<Figure size 432x288 with 0 Axes>"
      ]
     },
     "metadata": {},
     "output_type": "display_data"
    },
    {
     "data": {
      "text/plain": [
       "<Figure size 432x288 with 0 Axes>"
      ]
     },
     "metadata": {},
     "output_type": "display_data"
    },
    {
     "data": {
      "text/plain": [
       "<Figure size 432x288 with 0 Axes>"
      ]
     },
     "metadata": {},
     "output_type": "display_data"
    },
    {
     "data": {
      "text/plain": [
       "<Figure size 432x288 with 0 Axes>"
      ]
     },
     "metadata": {},
     "output_type": "display_data"
    },
    {
     "data": {
      "text/plain": [
       "<Figure size 432x288 with 0 Axes>"
      ]
     },
     "metadata": {},
     "output_type": "display_data"
    },
    {
     "data": {
      "text/plain": [
       "<Figure size 432x288 with 0 Axes>"
      ]
     },
     "metadata": {},
     "output_type": "display_data"
    },
    {
     "data": {
      "text/plain": [
       "<Figure size 432x288 with 0 Axes>"
      ]
     },
     "metadata": {},
     "output_type": "display_data"
    },
    {
     "data": {
      "text/plain": [
       "<Figure size 432x288 with 0 Axes>"
      ]
     },
     "metadata": {},
     "output_type": "display_data"
    },
    {
     "data": {
      "text/plain": [
       "<Figure size 432x288 with 0 Axes>"
      ]
     },
     "metadata": {},
     "output_type": "display_data"
    },
    {
     "data": {
      "text/plain": [
       "<Figure size 432x288 with 0 Axes>"
      ]
     },
     "metadata": {},
     "output_type": "display_data"
    },
    {
     "data": {
      "text/plain": [
       "<Figure size 432x288 with 0 Axes>"
      ]
     },
     "metadata": {},
     "output_type": "display_data"
    },
    {
     "data": {
      "text/plain": [
       "<Figure size 432x288 with 0 Axes>"
      ]
     },
     "metadata": {},
     "output_type": "display_data"
    },
    {
     "data": {
      "text/plain": [
       "<Figure size 432x288 with 0 Axes>"
      ]
     },
     "metadata": {},
     "output_type": "display_data"
    },
    {
     "data": {
      "text/plain": [
       "<Figure size 432x288 with 0 Axes>"
      ]
     },
     "metadata": {},
     "output_type": "display_data"
    },
    {
     "data": {
      "text/plain": [
       "<Figure size 432x288 with 0 Axes>"
      ]
     },
     "metadata": {},
     "output_type": "display_data"
    },
    {
     "data": {
      "text/plain": [
       "<Figure size 432x288 with 0 Axes>"
      ]
     },
     "metadata": {},
     "output_type": "display_data"
    },
    {
     "data": {
      "text/plain": [
       "<Figure size 432x288 with 0 Axes>"
      ]
     },
     "metadata": {},
     "output_type": "display_data"
    },
    {
     "data": {
      "text/plain": [
       "<Figure size 432x288 with 0 Axes>"
      ]
     },
     "metadata": {},
     "output_type": "display_data"
    },
    {
     "data": {
      "text/plain": [
       "<Figure size 432x288 with 0 Axes>"
      ]
     },
     "metadata": {},
     "output_type": "display_data"
    },
    {
     "data": {
      "text/plain": [
       "<Figure size 432x288 with 0 Axes>"
      ]
     },
     "metadata": {},
     "output_type": "display_data"
    },
    {
     "data": {
      "text/plain": [
       "<Figure size 432x288 with 0 Axes>"
      ]
     },
     "metadata": {},
     "output_type": "display_data"
    },
    {
     "data": {
      "text/plain": [
       "<Figure size 432x288 with 0 Axes>"
      ]
     },
     "metadata": {},
     "output_type": "display_data"
    },
    {
     "data": {
      "text/plain": [
       "<Figure size 432x288 with 0 Axes>"
      ]
     },
     "metadata": {},
     "output_type": "display_data"
    },
    {
     "data": {
      "text/plain": [
       "<Figure size 432x288 with 0 Axes>"
      ]
     },
     "metadata": {},
     "output_type": "display_data"
    },
    {
     "data": {
      "text/plain": [
       "<Figure size 432x288 with 0 Axes>"
      ]
     },
     "metadata": {},
     "output_type": "display_data"
    },
    {
     "data": {
      "text/plain": [
       "<Figure size 432x288 with 0 Axes>"
      ]
     },
     "metadata": {},
     "output_type": "display_data"
    },
    {
     "data": {
      "text/plain": [
       "<Figure size 432x288 with 0 Axes>"
      ]
     },
     "metadata": {},
     "output_type": "display_data"
    },
    {
     "data": {
      "text/plain": [
       "<Figure size 432x288 with 0 Axes>"
      ]
     },
     "metadata": {},
     "output_type": "display_data"
    },
    {
     "data": {
      "text/plain": [
       "<Figure size 432x288 with 0 Axes>"
      ]
     },
     "metadata": {},
     "output_type": "display_data"
    },
    {
     "data": {
      "text/plain": [
       "<Figure size 432x288 with 0 Axes>"
      ]
     },
     "metadata": {},
     "output_type": "display_data"
    },
    {
     "data": {
      "text/plain": [
       "<Figure size 432x288 with 0 Axes>"
      ]
     },
     "metadata": {},
     "output_type": "display_data"
    },
    {
     "data": {
      "text/plain": [
       "<Figure size 432x288 with 0 Axes>"
      ]
     },
     "metadata": {},
     "output_type": "display_data"
    },
    {
     "data": {
      "text/plain": [
       "<Figure size 432x288 with 0 Axes>"
      ]
     },
     "metadata": {},
     "output_type": "display_data"
    },
    {
     "data": {
      "text/plain": [
       "<Figure size 432x288 with 0 Axes>"
      ]
     },
     "metadata": {},
     "output_type": "display_data"
    },
    {
     "data": {
      "text/plain": [
       "<Figure size 432x288 with 0 Axes>"
      ]
     },
     "metadata": {},
     "output_type": "display_data"
    },
    {
     "data": {
      "text/plain": [
       "<Figure size 432x288 with 0 Axes>"
      ]
     },
     "metadata": {},
     "output_type": "display_data"
    },
    {
     "data": {
      "text/plain": [
       "<Figure size 432x288 with 0 Axes>"
      ]
     },
     "metadata": {},
     "output_type": "display_data"
    },
    {
     "data": {
      "text/plain": [
       "<Figure size 432x288 with 0 Axes>"
      ]
     },
     "metadata": {},
     "output_type": "display_data"
    },
    {
     "data": {
      "text/plain": [
       "<Figure size 432x288 with 0 Axes>"
      ]
     },
     "metadata": {},
     "output_type": "display_data"
    },
    {
     "data": {
      "text/plain": [
       "<Figure size 432x288 with 0 Axes>"
      ]
     },
     "metadata": {},
     "output_type": "display_data"
    },
    {
     "data": {
      "text/plain": [
       "<Figure size 432x288 with 0 Axes>"
      ]
     },
     "metadata": {},
     "output_type": "display_data"
    },
    {
     "data": {
      "text/plain": [
       "<Figure size 432x288 with 0 Axes>"
      ]
     },
     "metadata": {},
     "output_type": "display_data"
    },
    {
     "data": {
      "text/plain": [
       "<Figure size 432x288 with 0 Axes>"
      ]
     },
     "metadata": {},
     "output_type": "display_data"
    },
    {
     "data": {
      "text/plain": [
       "<Figure size 432x288 with 0 Axes>"
      ]
     },
     "metadata": {},
     "output_type": "display_data"
    },
    {
     "data": {
      "text/plain": [
       "<Figure size 432x288 with 0 Axes>"
      ]
     },
     "metadata": {},
     "output_type": "display_data"
    },
    {
     "data": {
      "text/plain": [
       "<Figure size 432x288 with 0 Axes>"
      ]
     },
     "metadata": {},
     "output_type": "display_data"
    },
    {
     "data": {
      "text/plain": [
       "<Figure size 432x288 with 0 Axes>"
      ]
     },
     "metadata": {},
     "output_type": "display_data"
    },
    {
     "data": {
      "text/plain": [
       "<Figure size 432x288 with 0 Axes>"
      ]
     },
     "metadata": {},
     "output_type": "display_data"
    },
    {
     "data": {
      "text/plain": [
       "<Figure size 432x288 with 0 Axes>"
      ]
     },
     "metadata": {},
     "output_type": "display_data"
    },
    {
     "data": {
      "text/plain": [
       "<Figure size 432x288 with 0 Axes>"
      ]
     },
     "metadata": {},
     "output_type": "display_data"
    },
    {
     "data": {
      "text/plain": [
       "<Figure size 432x288 with 0 Axes>"
      ]
     },
     "metadata": {},
     "output_type": "display_data"
    },
    {
     "data": {
      "text/plain": [
       "<Figure size 432x288 with 0 Axes>"
      ]
     },
     "metadata": {},
     "output_type": "display_data"
    },
    {
     "data": {
      "text/plain": [
       "<Figure size 432x288 with 0 Axes>"
      ]
     },
     "metadata": {},
     "output_type": "display_data"
    },
    {
     "data": {
      "text/plain": [
       "<Figure size 432x288 with 0 Axes>"
      ]
     },
     "metadata": {},
     "output_type": "display_data"
    },
    {
     "data": {
      "text/plain": [
       "<Figure size 432x288 with 0 Axes>"
      ]
     },
     "metadata": {},
     "output_type": "display_data"
    },
    {
     "data": {
      "text/plain": [
       "<Figure size 432x288 with 0 Axes>"
      ]
     },
     "metadata": {},
     "output_type": "display_data"
    },
    {
     "data": {
      "text/plain": [
       "<Figure size 432x288 with 0 Axes>"
      ]
     },
     "metadata": {},
     "output_type": "display_data"
    },
    {
     "data": {
      "text/plain": [
       "<Figure size 432x288 with 0 Axes>"
      ]
     },
     "metadata": {},
     "output_type": "display_data"
    },
    {
     "data": {
      "text/plain": [
       "<Figure size 432x288 with 0 Axes>"
      ]
     },
     "metadata": {},
     "output_type": "display_data"
    },
    {
     "data": {
      "text/plain": [
       "<Figure size 432x288 with 0 Axes>"
      ]
     },
     "metadata": {},
     "output_type": "display_data"
    },
    {
     "data": {
      "text/plain": [
       "<Figure size 432x288 with 0 Axes>"
      ]
     },
     "metadata": {},
     "output_type": "display_data"
    },
    {
     "data": {
      "text/plain": [
       "<Figure size 432x288 with 0 Axes>"
      ]
     },
     "metadata": {},
     "output_type": "display_data"
    },
    {
     "data": {
      "text/plain": [
       "<Figure size 432x288 with 0 Axes>"
      ]
     },
     "metadata": {},
     "output_type": "display_data"
    },
    {
     "data": {
      "text/plain": [
       "<Figure size 432x288 with 0 Axes>"
      ]
     },
     "metadata": {},
     "output_type": "display_data"
    },
    {
     "data": {
      "text/plain": [
       "<Figure size 432x288 with 0 Axes>"
      ]
     },
     "metadata": {},
     "output_type": "display_data"
    },
    {
     "data": {
      "text/plain": [
       "<Figure size 432x288 with 0 Axes>"
      ]
     },
     "metadata": {},
     "output_type": "display_data"
    },
    {
     "data": {
      "text/plain": [
       "<Figure size 432x288 with 0 Axes>"
      ]
     },
     "metadata": {},
     "output_type": "display_data"
    },
    {
     "data": {
      "text/plain": [
       "<Figure size 432x288 with 0 Axes>"
      ]
     },
     "metadata": {},
     "output_type": "display_data"
    },
    {
     "data": {
      "text/plain": [
       "<Figure size 432x288 with 0 Axes>"
      ]
     },
     "metadata": {},
     "output_type": "display_data"
    },
    {
     "data": {
      "text/plain": [
       "<Figure size 432x288 with 0 Axes>"
      ]
     },
     "metadata": {},
     "output_type": "display_data"
    },
    {
     "data": {
      "text/plain": [
       "<Figure size 432x288 with 0 Axes>"
      ]
     },
     "metadata": {},
     "output_type": "display_data"
    },
    {
     "data": {
      "text/plain": [
       "<Figure size 432x288 with 0 Axes>"
      ]
     },
     "metadata": {},
     "output_type": "display_data"
    },
    {
     "data": {
      "text/plain": [
       "<Figure size 432x288 with 0 Axes>"
      ]
     },
     "metadata": {},
     "output_type": "display_data"
    },
    {
     "data": {
      "text/plain": [
       "<Figure size 432x288 with 0 Axes>"
      ]
     },
     "metadata": {},
     "output_type": "display_data"
    },
    {
     "data": {
      "text/plain": [
       "<Figure size 432x288 with 0 Axes>"
      ]
     },
     "metadata": {},
     "output_type": "display_data"
    },
    {
     "data": {
      "text/plain": [
       "<Figure size 432x288 with 0 Axes>"
      ]
     },
     "metadata": {},
     "output_type": "display_data"
    },
    {
     "data": {
      "text/plain": [
       "<Figure size 432x288 with 0 Axes>"
      ]
     },
     "metadata": {},
     "output_type": "display_data"
    },
    {
     "data": {
      "text/plain": [
       "<Figure size 432x288 with 0 Axes>"
      ]
     },
     "metadata": {},
     "output_type": "display_data"
    },
    {
     "data": {
      "text/plain": [
       "<Figure size 432x288 with 0 Axes>"
      ]
     },
     "metadata": {},
     "output_type": "display_data"
    },
    {
     "data": {
      "text/plain": [
       "<Figure size 432x288 with 0 Axes>"
      ]
     },
     "metadata": {},
     "output_type": "display_data"
    },
    {
     "data": {
      "text/plain": [
       "<Figure size 432x288 with 0 Axes>"
      ]
     },
     "metadata": {},
     "output_type": "display_data"
    },
    {
     "data": {
      "text/plain": [
       "<Figure size 432x288 with 0 Axes>"
      ]
     },
     "metadata": {},
     "output_type": "display_data"
    },
    {
     "data": {
      "text/plain": [
       "<Figure size 432x288 with 0 Axes>"
      ]
     },
     "metadata": {},
     "output_type": "display_data"
    },
    {
     "data": {
      "text/plain": [
       "<Figure size 432x288 with 0 Axes>"
      ]
     },
     "metadata": {},
     "output_type": "display_data"
    },
    {
     "data": {
      "text/plain": [
       "<Figure size 432x288 with 0 Axes>"
      ]
     },
     "metadata": {},
     "output_type": "display_data"
    },
    {
     "data": {
      "text/plain": [
       "<Figure size 432x288 with 0 Axes>"
      ]
     },
     "metadata": {},
     "output_type": "display_data"
    },
    {
     "data": {
      "text/plain": [
       "<Figure size 432x288 with 0 Axes>"
      ]
     },
     "metadata": {},
     "output_type": "display_data"
    },
    {
     "data": {
      "text/plain": [
       "<Figure size 432x288 with 0 Axes>"
      ]
     },
     "metadata": {},
     "output_type": "display_data"
    },
    {
     "data": {
      "text/plain": [
       "<Figure size 432x288 with 0 Axes>"
      ]
     },
     "metadata": {},
     "output_type": "display_data"
    },
    {
     "data": {
      "text/plain": [
       "<Figure size 432x288 with 0 Axes>"
      ]
     },
     "metadata": {},
     "output_type": "display_data"
    },
    {
     "data": {
      "text/plain": [
       "<Figure size 432x288 with 0 Axes>"
      ]
     },
     "metadata": {},
     "output_type": "display_data"
    },
    {
     "data": {
      "text/plain": [
       "<Figure size 432x288 with 0 Axes>"
      ]
     },
     "metadata": {},
     "output_type": "display_data"
    },
    {
     "data": {
      "text/plain": [
       "<Figure size 432x288 with 0 Axes>"
      ]
     },
     "metadata": {},
     "output_type": "display_data"
    },
    {
     "data": {
      "text/plain": [
       "<Figure size 432x288 with 0 Axes>"
      ]
     },
     "metadata": {},
     "output_type": "display_data"
    },
    {
     "data": {
      "text/plain": [
       "<Figure size 432x288 with 0 Axes>"
      ]
     },
     "metadata": {},
     "output_type": "display_data"
    },
    {
     "data": {
      "text/plain": [
       "<Figure size 432x288 with 0 Axes>"
      ]
     },
     "metadata": {},
     "output_type": "display_data"
    },
    {
     "data": {
      "text/plain": [
       "<Figure size 432x288 with 0 Axes>"
      ]
     },
     "metadata": {},
     "output_type": "display_data"
    },
    {
     "data": {
      "text/plain": [
       "<Figure size 432x288 with 0 Axes>"
      ]
     },
     "metadata": {},
     "output_type": "display_data"
    },
    {
     "data": {
      "text/plain": [
       "<Figure size 432x288 with 0 Axes>"
      ]
     },
     "metadata": {},
     "output_type": "display_data"
    },
    {
     "data": {
      "text/plain": [
       "<Figure size 432x288 with 0 Axes>"
      ]
     },
     "metadata": {},
     "output_type": "display_data"
    },
    {
     "data": {
      "text/plain": [
       "<Figure size 432x288 with 0 Axes>"
      ]
     },
     "metadata": {},
     "output_type": "display_data"
    },
    {
     "data": {
      "text/plain": [
       "<Figure size 432x288 with 0 Axes>"
      ]
     },
     "metadata": {},
     "output_type": "display_data"
    },
    {
     "data": {
      "text/plain": [
       "<Figure size 432x288 with 0 Axes>"
      ]
     },
     "metadata": {},
     "output_type": "display_data"
    },
    {
     "data": {
      "text/plain": [
       "<Figure size 432x288 with 0 Axes>"
      ]
     },
     "metadata": {},
     "output_type": "display_data"
    },
    {
     "data": {
      "text/plain": [
       "<Figure size 432x288 with 0 Axes>"
      ]
     },
     "metadata": {},
     "output_type": "display_data"
    },
    {
     "data": {
      "text/plain": [
       "<Figure size 432x288 with 0 Axes>"
      ]
     },
     "metadata": {},
     "output_type": "display_data"
    },
    {
     "data": {
      "text/plain": [
       "<Figure size 432x288 with 0 Axes>"
      ]
     },
     "metadata": {},
     "output_type": "display_data"
    },
    {
     "data": {
      "text/plain": [
       "<Figure size 432x288 with 0 Axes>"
      ]
     },
     "metadata": {},
     "output_type": "display_data"
    },
    {
     "data": {
      "text/plain": [
       "<Figure size 432x288 with 0 Axes>"
      ]
     },
     "metadata": {},
     "output_type": "display_data"
    },
    {
     "data": {
      "text/plain": [
       "<Figure size 432x288 with 0 Axes>"
      ]
     },
     "metadata": {},
     "output_type": "display_data"
    },
    {
     "data": {
      "text/plain": [
       "<Figure size 432x288 with 0 Axes>"
      ]
     },
     "metadata": {},
     "output_type": "display_data"
    },
    {
     "data": {
      "text/plain": [
       "<Figure size 432x288 with 0 Axes>"
      ]
     },
     "metadata": {},
     "output_type": "display_data"
    },
    {
     "data": {
      "text/plain": [
       "<Figure size 432x288 with 0 Axes>"
      ]
     },
     "metadata": {},
     "output_type": "display_data"
    },
    {
     "data": {
      "text/plain": [
       "<Figure size 432x288 with 0 Axes>"
      ]
     },
     "metadata": {},
     "output_type": "display_data"
    },
    {
     "data": {
      "text/plain": [
       "<Figure size 432x288 with 0 Axes>"
      ]
     },
     "metadata": {},
     "output_type": "display_data"
    },
    {
     "data": {
      "text/plain": [
       "<Figure size 432x288 with 0 Axes>"
      ]
     },
     "metadata": {},
     "output_type": "display_data"
    },
    {
     "data": {
      "text/plain": [
       "<Figure size 432x288 with 0 Axes>"
      ]
     },
     "metadata": {},
     "output_type": "display_data"
    },
    {
     "data": {
      "text/plain": [
       "<Figure size 432x288 with 0 Axes>"
      ]
     },
     "metadata": {},
     "output_type": "display_data"
    },
    {
     "data": {
      "text/plain": [
       "<Figure size 432x288 with 0 Axes>"
      ]
     },
     "metadata": {},
     "output_type": "display_data"
    },
    {
     "data": {
      "text/plain": [
       "<Figure size 432x288 with 0 Axes>"
      ]
     },
     "metadata": {},
     "output_type": "display_data"
    },
    {
     "data": {
      "text/plain": [
       "<Figure size 432x288 with 0 Axes>"
      ]
     },
     "metadata": {},
     "output_type": "display_data"
    },
    {
     "data": {
      "text/plain": [
       "<Figure size 432x288 with 0 Axes>"
      ]
     },
     "metadata": {},
     "output_type": "display_data"
    },
    {
     "data": {
      "text/plain": [
       "<Figure size 432x288 with 0 Axes>"
      ]
     },
     "metadata": {},
     "output_type": "display_data"
    },
    {
     "data": {
      "text/plain": [
       "<Figure size 432x288 with 0 Axes>"
      ]
     },
     "metadata": {},
     "output_type": "display_data"
    },
    {
     "data": {
      "text/plain": [
       "<Figure size 432x288 with 0 Axes>"
      ]
     },
     "metadata": {},
     "output_type": "display_data"
    },
    {
     "data": {
      "text/plain": [
       "<Figure size 432x288 with 0 Axes>"
      ]
     },
     "metadata": {},
     "output_type": "display_data"
    },
    {
     "data": {
      "text/plain": [
       "<Figure size 432x288 with 0 Axes>"
      ]
     },
     "metadata": {},
     "output_type": "display_data"
    },
    {
     "data": {
      "text/plain": [
       "<Figure size 432x288 with 0 Axes>"
      ]
     },
     "metadata": {},
     "output_type": "display_data"
    },
    {
     "data": {
      "text/plain": [
       "<Figure size 432x288 with 0 Axes>"
      ]
     },
     "metadata": {},
     "output_type": "display_data"
    },
    {
     "data": {
      "text/plain": [
       "<Figure size 432x288 with 0 Axes>"
      ]
     },
     "metadata": {},
     "output_type": "display_data"
    },
    {
     "data": {
      "text/plain": [
       "<Figure size 432x288 with 0 Axes>"
      ]
     },
     "metadata": {},
     "output_type": "display_data"
    },
    {
     "data": {
      "text/plain": [
       "<Figure size 432x288 with 0 Axes>"
      ]
     },
     "metadata": {},
     "output_type": "display_data"
    },
    {
     "data": {
      "text/plain": [
       "<Figure size 432x288 with 0 Axes>"
      ]
     },
     "metadata": {},
     "output_type": "display_data"
    },
    {
     "data": {
      "text/plain": [
       "<Figure size 432x288 with 0 Axes>"
      ]
     },
     "metadata": {},
     "output_type": "display_data"
    },
    {
     "data": {
      "text/plain": [
       "<Figure size 432x288 with 0 Axes>"
      ]
     },
     "metadata": {},
     "output_type": "display_data"
    },
    {
     "data": {
      "text/plain": [
       "<Figure size 432x288 with 0 Axes>"
      ]
     },
     "metadata": {},
     "output_type": "display_data"
    },
    {
     "data": {
      "text/plain": [
       "<Figure size 432x288 with 0 Axes>"
      ]
     },
     "metadata": {},
     "output_type": "display_data"
    },
    {
     "data": {
      "text/plain": [
       "<Figure size 432x288 with 0 Axes>"
      ]
     },
     "metadata": {},
     "output_type": "display_data"
    },
    {
     "data": {
      "text/plain": [
       "<Figure size 432x288 with 0 Axes>"
      ]
     },
     "metadata": {},
     "output_type": "display_data"
    },
    {
     "data": {
      "text/plain": [
       "<Figure size 432x288 with 0 Axes>"
      ]
     },
     "metadata": {},
     "output_type": "display_data"
    },
    {
     "data": {
      "text/plain": [
       "<Figure size 432x288 with 0 Axes>"
      ]
     },
     "metadata": {},
     "output_type": "display_data"
    },
    {
     "data": {
      "text/plain": [
       "<Figure size 432x288 with 0 Axes>"
      ]
     },
     "metadata": {},
     "output_type": "display_data"
    },
    {
     "data": {
      "text/plain": [
       "<Figure size 432x288 with 0 Axes>"
      ]
     },
     "metadata": {},
     "output_type": "display_data"
    },
    {
     "data": {
      "text/plain": [
       "<Figure size 432x288 with 0 Axes>"
      ]
     },
     "metadata": {},
     "output_type": "display_data"
    },
    {
     "data": {
      "text/plain": [
       "<Figure size 432x288 with 0 Axes>"
      ]
     },
     "metadata": {},
     "output_type": "display_data"
    },
    {
     "data": {
      "text/plain": [
       "<Figure size 432x288 with 0 Axes>"
      ]
     },
     "metadata": {},
     "output_type": "display_data"
    },
    {
     "data": {
      "text/plain": [
       "<Figure size 432x288 with 0 Axes>"
      ]
     },
     "metadata": {},
     "output_type": "display_data"
    },
    {
     "data": {
      "text/plain": [
       "<Figure size 432x288 with 0 Axes>"
      ]
     },
     "metadata": {},
     "output_type": "display_data"
    },
    {
     "data": {
      "text/plain": [
       "<Figure size 432x288 with 0 Axes>"
      ]
     },
     "metadata": {},
     "output_type": "display_data"
    },
    {
     "data": {
      "text/plain": [
       "<Figure size 432x288 with 0 Axes>"
      ]
     },
     "metadata": {},
     "output_type": "display_data"
    },
    {
     "data": {
      "text/plain": [
       "<Figure size 432x288 with 0 Axes>"
      ]
     },
     "metadata": {},
     "output_type": "display_data"
    },
    {
     "data": {
      "text/plain": [
       "<Figure size 432x288 with 0 Axes>"
      ]
     },
     "metadata": {},
     "output_type": "display_data"
    },
    {
     "data": {
      "text/plain": [
       "<Figure size 432x288 with 0 Axes>"
      ]
     },
     "metadata": {},
     "output_type": "display_data"
    },
    {
     "data": {
      "text/plain": [
       "<Figure size 432x288 with 0 Axes>"
      ]
     },
     "metadata": {},
     "output_type": "display_data"
    },
    {
     "data": {
      "text/plain": [
       "<Figure size 432x288 with 0 Axes>"
      ]
     },
     "metadata": {},
     "output_type": "display_data"
    },
    {
     "data": {
      "text/plain": [
       "<Figure size 432x288 with 0 Axes>"
      ]
     },
     "metadata": {},
     "output_type": "display_data"
    },
    {
     "data": {
      "text/plain": [
       "<Figure size 432x288 with 0 Axes>"
      ]
     },
     "metadata": {},
     "output_type": "display_data"
    },
    {
     "data": {
      "text/plain": [
       "<Figure size 432x288 with 0 Axes>"
      ]
     },
     "metadata": {},
     "output_type": "display_data"
    },
    {
     "data": {
      "text/plain": [
       "<Figure size 432x288 with 0 Axes>"
      ]
     },
     "metadata": {},
     "output_type": "display_data"
    },
    {
     "data": {
      "text/plain": [
       "<Figure size 432x288 with 0 Axes>"
      ]
     },
     "metadata": {},
     "output_type": "display_data"
    },
    {
     "data": {
      "text/plain": [
       "<Figure size 432x288 with 0 Axes>"
      ]
     },
     "metadata": {},
     "output_type": "display_data"
    },
    {
     "data": {
      "text/plain": [
       "<Figure size 432x288 with 0 Axes>"
      ]
     },
     "metadata": {},
     "output_type": "display_data"
    },
    {
     "data": {
      "text/plain": [
       "<Figure size 432x288 with 0 Axes>"
      ]
     },
     "metadata": {},
     "output_type": "display_data"
    },
    {
     "data": {
      "text/plain": [
       "<Figure size 432x288 with 0 Axes>"
      ]
     },
     "metadata": {},
     "output_type": "display_data"
    },
    {
     "data": {
      "text/plain": [
       "<Figure size 432x288 with 0 Axes>"
      ]
     },
     "metadata": {},
     "output_type": "display_data"
    },
    {
     "data": {
      "text/plain": [
       "<Figure size 432x288 with 0 Axes>"
      ]
     },
     "metadata": {},
     "output_type": "display_data"
    },
    {
     "data": {
      "text/plain": [
       "<Figure size 432x288 with 0 Axes>"
      ]
     },
     "metadata": {},
     "output_type": "display_data"
    },
    {
     "data": {
      "text/plain": [
       "<Figure size 432x288 with 0 Axes>"
      ]
     },
     "metadata": {},
     "output_type": "display_data"
    },
    {
     "data": {
      "text/plain": [
       "<Figure size 432x288 with 0 Axes>"
      ]
     },
     "metadata": {},
     "output_type": "display_data"
    },
    {
     "data": {
      "text/plain": [
       "<Figure size 432x288 with 0 Axes>"
      ]
     },
     "metadata": {},
     "output_type": "display_data"
    },
    {
     "data": {
      "text/plain": [
       "<Figure size 432x288 with 0 Axes>"
      ]
     },
     "metadata": {},
     "output_type": "display_data"
    },
    {
     "data": {
      "text/plain": [
       "<Figure size 432x288 with 0 Axes>"
      ]
     },
     "metadata": {},
     "output_type": "display_data"
    },
    {
     "data": {
      "text/plain": [
       "<Figure size 432x288 with 0 Axes>"
      ]
     },
     "metadata": {},
     "output_type": "display_data"
    },
    {
     "data": {
      "text/plain": [
       "<Figure size 432x288 with 0 Axes>"
      ]
     },
     "metadata": {},
     "output_type": "display_data"
    },
    {
     "data": {
      "text/plain": [
       "<Figure size 432x288 with 0 Axes>"
      ]
     },
     "metadata": {},
     "output_type": "display_data"
    },
    {
     "data": {
      "text/plain": [
       "<Figure size 432x288 with 0 Axes>"
      ]
     },
     "metadata": {},
     "output_type": "display_data"
    },
    {
     "data": {
      "text/plain": [
       "<Figure size 432x288 with 0 Axes>"
      ]
     },
     "metadata": {},
     "output_type": "display_data"
    },
    {
     "data": {
      "text/plain": [
       "<Figure size 432x288 with 0 Axes>"
      ]
     },
     "metadata": {},
     "output_type": "display_data"
    },
    {
     "data": {
      "text/plain": [
       "<Figure size 432x288 with 0 Axes>"
      ]
     },
     "metadata": {},
     "output_type": "display_data"
    },
    {
     "data": {
      "text/plain": [
       "<Figure size 432x288 with 0 Axes>"
      ]
     },
     "metadata": {},
     "output_type": "display_data"
    },
    {
     "data": {
      "text/plain": [
       "<Figure size 432x288 with 0 Axes>"
      ]
     },
     "metadata": {},
     "output_type": "display_data"
    },
    {
     "data": {
      "text/plain": [
       "<Figure size 432x288 with 0 Axes>"
      ]
     },
     "metadata": {},
     "output_type": "display_data"
    },
    {
     "data": {
      "text/plain": [
       "<Figure size 432x288 with 0 Axes>"
      ]
     },
     "metadata": {},
     "output_type": "display_data"
    },
    {
     "data": {
      "text/plain": [
       "<Figure size 432x288 with 0 Axes>"
      ]
     },
     "metadata": {},
     "output_type": "display_data"
    },
    {
     "data": {
      "text/plain": [
       "<Figure size 432x288 with 0 Axes>"
      ]
     },
     "metadata": {},
     "output_type": "display_data"
    },
    {
     "data": {
      "text/plain": [
       "<Figure size 432x288 with 0 Axes>"
      ]
     },
     "metadata": {},
     "output_type": "display_data"
    },
    {
     "data": {
      "text/plain": [
       "<Figure size 432x288 with 0 Axes>"
      ]
     },
     "metadata": {},
     "output_type": "display_data"
    },
    {
     "data": {
      "text/plain": [
       "<Figure size 432x288 with 0 Axes>"
      ]
     },
     "metadata": {},
     "output_type": "display_data"
    },
    {
     "data": {
      "text/plain": [
       "<Figure size 432x288 with 0 Axes>"
      ]
     },
     "metadata": {},
     "output_type": "display_data"
    },
    {
     "data": {
      "text/plain": [
       "<Figure size 432x288 with 0 Axes>"
      ]
     },
     "metadata": {},
     "output_type": "display_data"
    },
    {
     "data": {
      "text/plain": [
       "<Figure size 432x288 with 0 Axes>"
      ]
     },
     "metadata": {},
     "output_type": "display_data"
    },
    {
     "data": {
      "text/plain": [
       "<Figure size 432x288 with 0 Axes>"
      ]
     },
     "metadata": {},
     "output_type": "display_data"
    },
    {
     "data": {
      "text/plain": [
       "<Figure size 432x288 with 0 Axes>"
      ]
     },
     "metadata": {},
     "output_type": "display_data"
    },
    {
     "data": {
      "text/plain": [
       "<Figure size 432x288 with 0 Axes>"
      ]
     },
     "metadata": {},
     "output_type": "display_data"
    },
    {
     "data": {
      "text/plain": [
       "<Figure size 432x288 with 0 Axes>"
      ]
     },
     "metadata": {},
     "output_type": "display_data"
    },
    {
     "data": {
      "text/plain": [
       "<Figure size 432x288 with 0 Axes>"
      ]
     },
     "metadata": {},
     "output_type": "display_data"
    },
    {
     "data": {
      "text/plain": [
       "<Figure size 432x288 with 0 Axes>"
      ]
     },
     "metadata": {},
     "output_type": "display_data"
    },
    {
     "data": {
      "text/plain": [
       "<Figure size 432x288 with 0 Axes>"
      ]
     },
     "metadata": {},
     "output_type": "display_data"
    },
    {
     "data": {
      "text/plain": [
       "<Figure size 432x288 with 0 Axes>"
      ]
     },
     "metadata": {},
     "output_type": "display_data"
    },
    {
     "data": {
      "text/plain": [
       "<Figure size 432x288 with 0 Axes>"
      ]
     },
     "metadata": {},
     "output_type": "display_data"
    },
    {
     "data": {
      "text/plain": [
       "<Figure size 432x288 with 0 Axes>"
      ]
     },
     "metadata": {},
     "output_type": "display_data"
    },
    {
     "data": {
      "text/plain": [
       "<Figure size 432x288 with 0 Axes>"
      ]
     },
     "metadata": {},
     "output_type": "display_data"
    },
    {
     "data": {
      "text/plain": [
       "<Figure size 432x288 with 0 Axes>"
      ]
     },
     "metadata": {},
     "output_type": "display_data"
    },
    {
     "data": {
      "text/plain": [
       "<Figure size 432x288 with 0 Axes>"
      ]
     },
     "metadata": {},
     "output_type": "display_data"
    },
    {
     "data": {
      "text/plain": [
       "<Figure size 432x288 with 0 Axes>"
      ]
     },
     "metadata": {},
     "output_type": "display_data"
    },
    {
     "data": {
      "text/plain": [
       "<Figure size 432x288 with 0 Axes>"
      ]
     },
     "metadata": {},
     "output_type": "display_data"
    },
    {
     "data": {
      "text/plain": [
       "<Figure size 432x288 with 0 Axes>"
      ]
     },
     "metadata": {},
     "output_type": "display_data"
    },
    {
     "data": {
      "text/plain": [
       "<Figure size 432x288 with 0 Axes>"
      ]
     },
     "metadata": {},
     "output_type": "display_data"
    },
    {
     "data": {
      "text/plain": [
       "<Figure size 432x288 with 0 Axes>"
      ]
     },
     "metadata": {},
     "output_type": "display_data"
    },
    {
     "data": {
      "text/plain": [
       "<Figure size 432x288 with 0 Axes>"
      ]
     },
     "metadata": {},
     "output_type": "display_data"
    },
    {
     "data": {
      "text/plain": [
       "<Figure size 432x288 with 0 Axes>"
      ]
     },
     "metadata": {},
     "output_type": "display_data"
    },
    {
     "data": {
      "text/plain": [
       "<Figure size 432x288 with 0 Axes>"
      ]
     },
     "metadata": {},
     "output_type": "display_data"
    },
    {
     "data": {
      "text/plain": [
       "<Figure size 432x288 with 0 Axes>"
      ]
     },
     "metadata": {},
     "output_type": "display_data"
    },
    {
     "data": {
      "text/plain": [
       "<Figure size 432x288 with 0 Axes>"
      ]
     },
     "metadata": {},
     "output_type": "display_data"
    },
    {
     "data": {
      "text/plain": [
       "<Figure size 432x288 with 0 Axes>"
      ]
     },
     "metadata": {},
     "output_type": "display_data"
    },
    {
     "data": {
      "text/plain": [
       "<Figure size 432x288 with 0 Axes>"
      ]
     },
     "metadata": {},
     "output_type": "display_data"
    },
    {
     "data": {
      "text/plain": [
       "<Figure size 432x288 with 0 Axes>"
      ]
     },
     "metadata": {},
     "output_type": "display_data"
    },
    {
     "data": {
      "text/plain": [
       "<Figure size 432x288 with 0 Axes>"
      ]
     },
     "metadata": {},
     "output_type": "display_data"
    },
    {
     "data": {
      "text/plain": [
       "<Figure size 432x288 with 0 Axes>"
      ]
     },
     "metadata": {},
     "output_type": "display_data"
    },
    {
     "data": {
      "text/plain": [
       "<Figure size 432x288 with 0 Axes>"
      ]
     },
     "metadata": {},
     "output_type": "display_data"
    },
    {
     "data": {
      "text/plain": [
       "<Figure size 432x288 with 0 Axes>"
      ]
     },
     "metadata": {},
     "output_type": "display_data"
    },
    {
     "data": {
      "text/plain": [
       "<Figure size 432x288 with 0 Axes>"
      ]
     },
     "metadata": {},
     "output_type": "display_data"
    },
    {
     "data": {
      "text/plain": [
       "<Figure size 432x288 with 0 Axes>"
      ]
     },
     "metadata": {},
     "output_type": "display_data"
    },
    {
     "data": {
      "text/plain": [
       "<Figure size 432x288 with 0 Axes>"
      ]
     },
     "metadata": {},
     "output_type": "display_data"
    },
    {
     "data": {
      "text/plain": [
       "<Figure size 432x288 with 0 Axes>"
      ]
     },
     "metadata": {},
     "output_type": "display_data"
    },
    {
     "data": {
      "text/plain": [
       "<Figure size 432x288 with 0 Axes>"
      ]
     },
     "metadata": {},
     "output_type": "display_data"
    },
    {
     "data": {
      "text/plain": [
       "<Figure size 432x288 with 0 Axes>"
      ]
     },
     "metadata": {},
     "output_type": "display_data"
    },
    {
     "data": {
      "text/plain": [
       "<Figure size 432x288 with 0 Axes>"
      ]
     },
     "metadata": {},
     "output_type": "display_data"
    },
    {
     "data": {
      "text/plain": [
       "<Figure size 432x288 with 0 Axes>"
      ]
     },
     "metadata": {},
     "output_type": "display_data"
    },
    {
     "data": {
      "text/plain": [
       "<Figure size 432x288 with 0 Axes>"
      ]
     },
     "metadata": {},
     "output_type": "display_data"
    },
    {
     "data": {
      "text/plain": [
       "<Figure size 432x288 with 0 Axes>"
      ]
     },
     "metadata": {},
     "output_type": "display_data"
    },
    {
     "data": {
      "text/plain": [
       "<Figure size 432x288 with 0 Axes>"
      ]
     },
     "metadata": {},
     "output_type": "display_data"
    },
    {
     "data": {
      "text/plain": [
       "<Figure size 432x288 with 0 Axes>"
      ]
     },
     "metadata": {},
     "output_type": "display_data"
    },
    {
     "data": {
      "text/plain": [
       "<Figure size 432x288 with 0 Axes>"
      ]
     },
     "metadata": {},
     "output_type": "display_data"
    },
    {
     "data": {
      "text/plain": [
       "<Figure size 432x288 with 0 Axes>"
      ]
     },
     "metadata": {},
     "output_type": "display_data"
    },
    {
     "data": {
      "text/plain": [
       "<Figure size 432x288 with 0 Axes>"
      ]
     },
     "metadata": {},
     "output_type": "display_data"
    },
    {
     "data": {
      "text/plain": [
       "<Figure size 432x288 with 0 Axes>"
      ]
     },
     "metadata": {},
     "output_type": "display_data"
    },
    {
     "data": {
      "text/plain": [
       "<Figure size 432x288 with 0 Axes>"
      ]
     },
     "metadata": {},
     "output_type": "display_data"
    },
    {
     "data": {
      "text/plain": [
       "<Figure size 432x288 with 0 Axes>"
      ]
     },
     "metadata": {},
     "output_type": "display_data"
    },
    {
     "data": {
      "text/plain": [
       "<Figure size 432x288 with 0 Axes>"
      ]
     },
     "metadata": {},
     "output_type": "display_data"
    },
    {
     "data": {
      "text/plain": [
       "<Figure size 432x288 with 0 Axes>"
      ]
     },
     "metadata": {},
     "output_type": "display_data"
    },
    {
     "data": {
      "text/plain": [
       "<Figure size 432x288 with 0 Axes>"
      ]
     },
     "metadata": {},
     "output_type": "display_data"
    },
    {
     "data": {
      "text/plain": [
       "<Figure size 432x288 with 0 Axes>"
      ]
     },
     "metadata": {},
     "output_type": "display_data"
    },
    {
     "data": {
      "text/plain": [
       "<Figure size 432x288 with 0 Axes>"
      ]
     },
     "metadata": {},
     "output_type": "display_data"
    },
    {
     "data": {
      "text/plain": [
       "<Figure size 432x288 with 0 Axes>"
      ]
     },
     "metadata": {},
     "output_type": "display_data"
    },
    {
     "data": {
      "text/plain": [
       "<Figure size 432x288 with 0 Axes>"
      ]
     },
     "metadata": {},
     "output_type": "display_data"
    },
    {
     "data": {
      "text/plain": [
       "<Figure size 432x288 with 0 Axes>"
      ]
     },
     "metadata": {},
     "output_type": "display_data"
    },
    {
     "data": {
      "text/plain": [
       "<Figure size 432x288 with 0 Axes>"
      ]
     },
     "metadata": {},
     "output_type": "display_data"
    },
    {
     "data": {
      "text/plain": [
       "<Figure size 432x288 with 0 Axes>"
      ]
     },
     "metadata": {},
     "output_type": "display_data"
    },
    {
     "data": {
      "text/plain": [
       "<Figure size 432x288 with 0 Axes>"
      ]
     },
     "metadata": {},
     "output_type": "display_data"
    },
    {
     "data": {
      "text/plain": [
       "<Figure size 432x288 with 0 Axes>"
      ]
     },
     "metadata": {},
     "output_type": "display_data"
    },
    {
     "data": {
      "text/plain": [
       "<Figure size 432x288 with 0 Axes>"
      ]
     },
     "metadata": {},
     "output_type": "display_data"
    },
    {
     "data": {
      "text/plain": [
       "<Figure size 432x288 with 0 Axes>"
      ]
     },
     "metadata": {},
     "output_type": "display_data"
    },
    {
     "data": {
      "text/plain": [
       "<Figure size 432x288 with 0 Axes>"
      ]
     },
     "metadata": {},
     "output_type": "display_data"
    },
    {
     "data": {
      "text/plain": [
       "<Figure size 432x288 with 0 Axes>"
      ]
     },
     "metadata": {},
     "output_type": "display_data"
    },
    {
     "data": {
      "text/plain": [
       "<Figure size 432x288 with 0 Axes>"
      ]
     },
     "metadata": {},
     "output_type": "display_data"
    },
    {
     "data": {
      "text/plain": [
       "<Figure size 432x288 with 0 Axes>"
      ]
     },
     "metadata": {},
     "output_type": "display_data"
    },
    {
     "data": {
      "text/plain": [
       "<Figure size 432x288 with 0 Axes>"
      ]
     },
     "metadata": {},
     "output_type": "display_data"
    },
    {
     "data": {
      "text/plain": [
       "<Figure size 432x288 with 0 Axes>"
      ]
     },
     "metadata": {},
     "output_type": "display_data"
    },
    {
     "data": {
      "text/plain": [
       "<Figure size 432x288 with 0 Axes>"
      ]
     },
     "metadata": {},
     "output_type": "display_data"
    },
    {
     "data": {
      "text/plain": [
       "<Figure size 432x288 with 0 Axes>"
      ]
     },
     "metadata": {},
     "output_type": "display_data"
    },
    {
     "data": {
      "text/plain": [
       "<Figure size 432x288 with 0 Axes>"
      ]
     },
     "metadata": {},
     "output_type": "display_data"
    },
    {
     "data": {
      "text/plain": [
       "<Figure size 432x288 with 0 Axes>"
      ]
     },
     "metadata": {},
     "output_type": "display_data"
    },
    {
     "data": {
      "text/plain": [
       "<Figure size 432x288 with 0 Axes>"
      ]
     },
     "metadata": {},
     "output_type": "display_data"
    },
    {
     "data": {
      "text/plain": [
       "<Figure size 432x288 with 0 Axes>"
      ]
     },
     "metadata": {},
     "output_type": "display_data"
    },
    {
     "data": {
      "text/plain": [
       "<Figure size 432x288 with 0 Axes>"
      ]
     },
     "metadata": {},
     "output_type": "display_data"
    },
    {
     "data": {
      "text/plain": [
       "<Figure size 432x288 with 0 Axes>"
      ]
     },
     "metadata": {},
     "output_type": "display_data"
    },
    {
     "data": {
      "text/plain": [
       "<Figure size 432x288 with 0 Axes>"
      ]
     },
     "metadata": {},
     "output_type": "display_data"
    },
    {
     "data": {
      "text/plain": [
       "<Figure size 432x288 with 0 Axes>"
      ]
     },
     "metadata": {},
     "output_type": "display_data"
    },
    {
     "data": {
      "text/plain": [
       "<Figure size 432x288 with 0 Axes>"
      ]
     },
     "metadata": {},
     "output_type": "display_data"
    },
    {
     "data": {
      "text/plain": [
       "<Figure size 432x288 with 0 Axes>"
      ]
     },
     "metadata": {},
     "output_type": "display_data"
    },
    {
     "data": {
      "text/plain": [
       "<Figure size 432x288 with 0 Axes>"
      ]
     },
     "metadata": {},
     "output_type": "display_data"
    },
    {
     "data": {
      "text/plain": [
       "<Figure size 432x288 with 0 Axes>"
      ]
     },
     "metadata": {},
     "output_type": "display_data"
    },
    {
     "data": {
      "text/plain": [
       "<Figure size 432x288 with 0 Axes>"
      ]
     },
     "metadata": {},
     "output_type": "display_data"
    },
    {
     "data": {
      "text/plain": [
       "<Figure size 432x288 with 0 Axes>"
      ]
     },
     "metadata": {},
     "output_type": "display_data"
    },
    {
     "data": {
      "text/plain": [
       "<Figure size 432x288 with 0 Axes>"
      ]
     },
     "metadata": {},
     "output_type": "display_data"
    },
    {
     "data": {
      "text/plain": [
       "<Figure size 432x288 with 0 Axes>"
      ]
     },
     "metadata": {},
     "output_type": "display_data"
    },
    {
     "data": {
      "text/plain": [
       "<Figure size 432x288 with 0 Axes>"
      ]
     },
     "metadata": {},
     "output_type": "display_data"
    },
    {
     "data": {
      "text/plain": [
       "<Figure size 432x288 with 0 Axes>"
      ]
     },
     "metadata": {},
     "output_type": "display_data"
    },
    {
     "data": {
      "text/plain": [
       "<Figure size 432x288 with 0 Axes>"
      ]
     },
     "metadata": {},
     "output_type": "display_data"
    },
    {
     "data": {
      "text/plain": [
       "<Figure size 432x288 with 0 Axes>"
      ]
     },
     "metadata": {},
     "output_type": "display_data"
    },
    {
     "data": {
      "text/plain": [
       "<Figure size 432x288 with 0 Axes>"
      ]
     },
     "metadata": {},
     "output_type": "display_data"
    },
    {
     "data": {
      "text/plain": [
       "<Figure size 432x288 with 0 Axes>"
      ]
     },
     "metadata": {},
     "output_type": "display_data"
    },
    {
     "data": {
      "text/plain": [
       "<Figure size 432x288 with 0 Axes>"
      ]
     },
     "metadata": {},
     "output_type": "display_data"
    },
    {
     "data": {
      "text/plain": [
       "<Figure size 432x288 with 0 Axes>"
      ]
     },
     "metadata": {},
     "output_type": "display_data"
    },
    {
     "data": {
      "text/plain": [
       "<Figure size 432x288 with 0 Axes>"
      ]
     },
     "metadata": {},
     "output_type": "display_data"
    },
    {
     "data": {
      "text/plain": [
       "<Figure size 432x288 with 0 Axes>"
      ]
     },
     "metadata": {},
     "output_type": "display_data"
    },
    {
     "data": {
      "text/plain": [
       "<Figure size 432x288 with 0 Axes>"
      ]
     },
     "metadata": {},
     "output_type": "display_data"
    },
    {
     "data": {
      "text/plain": [
       "<Figure size 432x288 with 0 Axes>"
      ]
     },
     "metadata": {},
     "output_type": "display_data"
    },
    {
     "data": {
      "text/plain": [
       "<Figure size 432x288 with 0 Axes>"
      ]
     },
     "metadata": {},
     "output_type": "display_data"
    },
    {
     "data": {
      "text/plain": [
       "<Figure size 432x288 with 0 Axes>"
      ]
     },
     "metadata": {},
     "output_type": "display_data"
    },
    {
     "data": {
      "text/plain": [
       "<Figure size 432x288 with 0 Axes>"
      ]
     },
     "metadata": {},
     "output_type": "display_data"
    },
    {
     "data": {
      "text/plain": [
       "<Figure size 432x288 with 0 Axes>"
      ]
     },
     "metadata": {},
     "output_type": "display_data"
    },
    {
     "data": {
      "text/plain": [
       "<Figure size 432x288 with 0 Axes>"
      ]
     },
     "metadata": {},
     "output_type": "display_data"
    },
    {
     "data": {
      "text/plain": [
       "<Figure size 432x288 with 0 Axes>"
      ]
     },
     "metadata": {},
     "output_type": "display_data"
    },
    {
     "data": {
      "text/plain": [
       "<Figure size 432x288 with 0 Axes>"
      ]
     },
     "metadata": {},
     "output_type": "display_data"
    },
    {
     "data": {
      "text/plain": [
       "<Figure size 432x288 with 0 Axes>"
      ]
     },
     "metadata": {},
     "output_type": "display_data"
    },
    {
     "data": {
      "text/plain": [
       "<Figure size 432x288 with 0 Axes>"
      ]
     },
     "metadata": {},
     "output_type": "display_data"
    },
    {
     "data": {
      "text/plain": [
       "<Figure size 432x288 with 0 Axes>"
      ]
     },
     "metadata": {},
     "output_type": "display_data"
    },
    {
     "data": {
      "text/plain": [
       "<Figure size 432x288 with 0 Axes>"
      ]
     },
     "metadata": {},
     "output_type": "display_data"
    },
    {
     "data": {
      "text/plain": [
       "<Figure size 432x288 with 0 Axes>"
      ]
     },
     "metadata": {},
     "output_type": "display_data"
    },
    {
     "data": {
      "text/plain": [
       "<Figure size 432x288 with 0 Axes>"
      ]
     },
     "metadata": {},
     "output_type": "display_data"
    },
    {
     "data": {
      "text/plain": [
       "<Figure size 432x288 with 0 Axes>"
      ]
     },
     "metadata": {},
     "output_type": "display_data"
    },
    {
     "data": {
      "text/plain": [
       "<Figure size 432x288 with 0 Axes>"
      ]
     },
     "metadata": {},
     "output_type": "display_data"
    },
    {
     "data": {
      "text/plain": [
       "<Figure size 432x288 with 0 Axes>"
      ]
     },
     "metadata": {},
     "output_type": "display_data"
    },
    {
     "data": {
      "text/plain": [
       "<Figure size 432x288 with 0 Axes>"
      ]
     },
     "metadata": {},
     "output_type": "display_data"
    },
    {
     "data": {
      "text/plain": [
       "<Figure size 432x288 with 0 Axes>"
      ]
     },
     "metadata": {},
     "output_type": "display_data"
    },
    {
     "data": {
      "text/plain": [
       "<Figure size 432x288 with 0 Axes>"
      ]
     },
     "metadata": {},
     "output_type": "display_data"
    },
    {
     "data": {
      "text/plain": [
       "<Figure size 432x288 with 0 Axes>"
      ]
     },
     "metadata": {},
     "output_type": "display_data"
    },
    {
     "data": {
      "text/plain": [
       "<Figure size 432x288 with 0 Axes>"
      ]
     },
     "metadata": {},
     "output_type": "display_data"
    },
    {
     "data": {
      "text/plain": [
       "<Figure size 432x288 with 0 Axes>"
      ]
     },
     "metadata": {},
     "output_type": "display_data"
    },
    {
     "data": {
      "text/plain": [
       "<Figure size 432x288 with 0 Axes>"
      ]
     },
     "metadata": {},
     "output_type": "display_data"
    },
    {
     "data": {
      "text/plain": [
       "<Figure size 432x288 with 0 Axes>"
      ]
     },
     "metadata": {},
     "output_type": "display_data"
    },
    {
     "data": {
      "text/plain": [
       "<Figure size 432x288 with 0 Axes>"
      ]
     },
     "metadata": {},
     "output_type": "display_data"
    },
    {
     "data": {
      "text/plain": [
       "<Figure size 432x288 with 0 Axes>"
      ]
     },
     "metadata": {},
     "output_type": "display_data"
    },
    {
     "data": {
      "text/plain": [
       "<Figure size 432x288 with 0 Axes>"
      ]
     },
     "metadata": {},
     "output_type": "display_data"
    },
    {
     "data": {
      "text/plain": [
       "<Figure size 432x288 with 0 Axes>"
      ]
     },
     "metadata": {},
     "output_type": "display_data"
    },
    {
     "data": {
      "text/plain": [
       "<Figure size 432x288 with 0 Axes>"
      ]
     },
     "metadata": {},
     "output_type": "display_data"
    },
    {
     "data": {
      "text/plain": [
       "<Figure size 432x288 with 0 Axes>"
      ]
     },
     "metadata": {},
     "output_type": "display_data"
    },
    {
     "data": {
      "text/plain": [
       "<Figure size 432x288 with 0 Axes>"
      ]
     },
     "metadata": {},
     "output_type": "display_data"
    },
    {
     "data": {
      "text/plain": [
       "<Figure size 432x288 with 0 Axes>"
      ]
     },
     "metadata": {},
     "output_type": "display_data"
    },
    {
     "data": {
      "text/plain": [
       "<Figure size 432x288 with 0 Axes>"
      ]
     },
     "metadata": {},
     "output_type": "display_data"
    },
    {
     "data": {
      "text/plain": [
       "<Figure size 432x288 with 0 Axes>"
      ]
     },
     "metadata": {},
     "output_type": "display_data"
    },
    {
     "data": {
      "text/plain": [
       "<Figure size 432x288 with 0 Axes>"
      ]
     },
     "metadata": {},
     "output_type": "display_data"
    },
    {
     "data": {
      "text/plain": [
       "<Figure size 432x288 with 0 Axes>"
      ]
     },
     "metadata": {},
     "output_type": "display_data"
    },
    {
     "data": {
      "text/plain": [
       "<Figure size 432x288 with 0 Axes>"
      ]
     },
     "metadata": {},
     "output_type": "display_data"
    },
    {
     "data": {
      "text/plain": [
       "<Figure size 432x288 with 0 Axes>"
      ]
     },
     "metadata": {},
     "output_type": "display_data"
    },
    {
     "data": {
      "text/plain": [
       "<Figure size 432x288 with 0 Axes>"
      ]
     },
     "metadata": {},
     "output_type": "display_data"
    },
    {
     "data": {
      "text/plain": [
       "<Figure size 432x288 with 0 Axes>"
      ]
     },
     "metadata": {},
     "output_type": "display_data"
    },
    {
     "data": {
      "text/plain": [
       "<Figure size 432x288 with 0 Axes>"
      ]
     },
     "metadata": {},
     "output_type": "display_data"
    },
    {
     "data": {
      "text/plain": [
       "<Figure size 432x288 with 0 Axes>"
      ]
     },
     "metadata": {},
     "output_type": "display_data"
    },
    {
     "data": {
      "text/plain": [
       "<Figure size 432x288 with 0 Axes>"
      ]
     },
     "metadata": {},
     "output_type": "display_data"
    }
   ],
   "source": [
    "import matplotlib.pyplot as plt\n",
    "import numpy as np\n",
    "from mpl_toolkits.mplot3d import Axes3D\n",
    "\n",
    "from mpl_toolkits.mplot3d import axes3d\n",
    "import matplotlib.pyplot as plt\n",
    "mpl.style.use('seaborn-whitegrid')\n",
    "\n",
    "fig = plt.figure(figsize=(8, 7))\n",
    "ax1 = fig.add_subplot(111,projection='3d')\n",
    "\n",
    "colors = ['red', 'blue', 'green']\n",
    "for i in range(len(df_tr)):\n",
    "    x, y, z = df_tr.iloc[i]['GOT'], df_tr.iloc[i]['GGT'], df_tr.iloc[i]['NH3']\n",
    "    ax1.scatter(x, y, z, c=colors[int(df_tr.iloc[i]['clusters'])], alpha = 0.6, linewidths=4)\n",
    "    ax1.text(x, y, z, '{0}'.format(df_tr.iloc[i]['cowid'].astype(int)),ha='right', size=10)\n",
    "    \n",
    "    \n",
    "ax1.set_xlabel('GOT')\n",
    "ax1.set_ylabel('GGT')\n",
    "ax1.set_zlabel('NH3')\n",
    "\n",
    "\n",
    "plt.title('Clusters in early lactation period related to Liver Condition')      \n",
    "#plt.show()\n",
    "\n",
    "\n",
    "for angle in range(0, 360):\n",
    "    ax1.view_init(10, angle)\n",
    "    plt.draw()\n",
    "    plt.pause(.001)"
   ]
  },
  {
   "cell_type": "code",
   "execution_count": 25,
   "metadata": {},
   "outputs": [
    {
     "data": {
      "image/png": "[encoded data removed]",
      "text/plain": [
       "<Figure size 762.875x720 with 20 Axes>"
      ]
     },
     "metadata": {},
     "output_type": "display_data"
    }
   ],
   "source": [
    "energy = df_tr[['BHB', 'NEFA', 'GLU','clusters']]\n",
    "\n",
    "sns.pairplot(energy, kind=\"scatter\",  diag_kind=\"hist\", hue=\"clusters\", markers=[\"o\", \"o\", \"o\"], palette=\"Set1\")\n",
    "plt.show()\n"
   ]
  },
  {
   "cell_type": "code",
   "execution_count": 26,
   "metadata": {},
   "outputs": [
    {
     "data": {
      "image/png": "[encoded data removed]",
      "text/plain": [
       "<Figure size 762.875x720 with 20 Axes>"
      ]
     },
     "metadata": {},
     "output_type": "display_data"
    }
   ],
   "source": [
    "pro = df_tr[['TP', 'BUN', 'ALB','clusters']]\n",
    "\n",
    "sns.pairplot(pro, kind=\"scatter\",  diag_kind=\"hist\", hue=\"clusters\", markers=[\"o\", \"o\", \"o\"], palette=\"Set1\")\n",
    "plt.show()\n"
   ]
  },
  {
   "cell_type": "code",
   "execution_count": 27,
   "metadata": {},
   "outputs": [
    {
     "data": {
      "image/png": "[encoded data removed]",
      "text/plain": [
       "<Figure size 762.875x720 with 20 Axes>"
      ]
     },
     "metadata": {},
     "output_type": "display_data"
    }
   ],
   "source": [
    "liver = df_tr[['NH3', 'GGT', 'GOT','clusters']]\n",
    "\n",
    "sns.pairplot(liver, kind=\"scatter\",  diag_kind=\"hist\", hue=\"clusters\", markers=[\"o\", \"o\", \"o\"], palette=\"Set1\")\n",
    "plt.show()\n"
   ]
  },
  {
   "cell_type": "code",
   "execution_count": 28,
   "metadata": {},
   "outputs": [
    {
     "data": {
      "text/html": [
       "<div>\n",
       "<style scoped>\n",
       "    .dataframe tbody tr th:only-of-type {\n",
       "        vertical-align: middle;\n",
       "    }\n",
       "\n",
       "    .dataframe tbody tr th {\n",
       "        vertical-align: top;\n",
       "    }\n",
       "\n",
       "    .dataframe thead th {\n",
       "        text-align: right;\n",
       "    }\n",
       "</style>\n",
       "<table border=\"1\" class=\"dataframe\">\n",
       "  <thead>\n",
       "    <tr style=\"text-align: right;\">\n",
       "      <th></th>\n",
       "      <th>global</th>\n",
       "      <th>cowid</th>\n",
       "      <th>days</th>\n",
       "      <th>TP</th>\n",
       "      <th>ALB</th>\n",
       "      <th>BUN</th>\n",
       "      <th>CHO</th>\n",
       "      <th>GOT</th>\n",
       "      <th>GGT</th>\n",
       "      <th>CA</th>\n",
       "      <th>IP</th>\n",
       "      <th>GLU</th>\n",
       "      <th>NH3</th>\n",
       "      <th>NEFA</th>\n",
       "      <th>BHB</th>\n",
       "      <th>clusters</th>\n",
       "    </tr>\n",
       "  </thead>\n",
       "  <tbody>\n",
       "    <tr>\n",
       "      <th>0</th>\n",
       "      <td>863934238</td>\n",
       "      <td>205</td>\n",
       "      <td>31</td>\n",
       "      <td>7.8</td>\n",
       "      <td>3.4</td>\n",
       "      <td>8.0</td>\n",
       "      <td>153</td>\n",
       "      <td>91</td>\n",
       "      <td>20</td>\n",
       "      <td>10.9</td>\n",
       "      <td>4.9</td>\n",
       "      <td>51</td>\n",
       "      <td>109</td>\n",
       "      <td>417</td>\n",
       "      <td>680.4</td>\n",
       "      <td>0</td>\n",
       "    </tr>\n",
       "    <tr>\n",
       "      <th>1</th>\n",
       "      <td>864770057</td>\n",
       "      <td>62</td>\n",
       "      <td>32</td>\n",
       "      <td>6.8</td>\n",
       "      <td>3.8</td>\n",
       "      <td>11.5</td>\n",
       "      <td>178</td>\n",
       "      <td>67</td>\n",
       "      <td>27</td>\n",
       "      <td>10.5</td>\n",
       "      <td>5.0</td>\n",
       "      <td>54</td>\n",
       "      <td>111</td>\n",
       "      <td>196</td>\n",
       "      <td>601.6</td>\n",
       "      <td>0</td>\n",
       "    </tr>\n",
       "    <tr>\n",
       "      <th>2</th>\n",
       "      <td>856563216</td>\n",
       "      <td>297</td>\n",
       "      <td>32</td>\n",
       "      <td>7.1</td>\n",
       "      <td>2.8</td>\n",
       "      <td>8.2</td>\n",
       "      <td>161</td>\n",
       "      <td>52</td>\n",
       "      <td>23</td>\n",
       "      <td>10.0</td>\n",
       "      <td>6.6</td>\n",
       "      <td>64</td>\n",
       "      <td>57</td>\n",
       "      <td>189</td>\n",
       "      <td>287.9</td>\n",
       "      <td>1</td>\n",
       "    </tr>\n",
       "    <tr>\n",
       "      <th>3</th>\n",
       "      <td>1399102221</td>\n",
       "      <td>44</td>\n",
       "      <td>33</td>\n",
       "      <td>7.4</td>\n",
       "      <td>3.6</td>\n",
       "      <td>10.5</td>\n",
       "      <td>211</td>\n",
       "      <td>81</td>\n",
       "      <td>26</td>\n",
       "      <td>10.5</td>\n",
       "      <td>5.8</td>\n",
       "      <td>52</td>\n",
       "      <td>97</td>\n",
       "      <td>374</td>\n",
       "      <td>1108.5</td>\n",
       "      <td>0</td>\n",
       "    </tr>\n",
       "    <tr>\n",
       "      <th>4</th>\n",
       "      <td>1461212865</td>\n",
       "      <td>87</td>\n",
       "      <td>37</td>\n",
       "      <td>6.9</td>\n",
       "      <td>3.6</td>\n",
       "      <td>10.4</td>\n",
       "      <td>165</td>\n",
       "      <td>76</td>\n",
       "      <td>25</td>\n",
       "      <td>10.4</td>\n",
       "      <td>4.9</td>\n",
       "      <td>54</td>\n",
       "      <td>135</td>\n",
       "      <td>608</td>\n",
       "      <td>648.0</td>\n",
       "      <td>0</td>\n",
       "    </tr>\n",
       "    <tr>\n",
       "      <th>5</th>\n",
       "      <td>864142540</td>\n",
       "      <td>48</td>\n",
       "      <td>37</td>\n",
       "      <td>7.3</td>\n",
       "      <td>3.8</td>\n",
       "      <td>8.6</td>\n",
       "      <td>159</td>\n",
       "      <td>85</td>\n",
       "      <td>23</td>\n",
       "      <td>10.4</td>\n",
       "      <td>5.5</td>\n",
       "      <td>58</td>\n",
       "      <td>150</td>\n",
       "      <td>1118</td>\n",
       "      <td>759.4</td>\n",
       "      <td>0</td>\n",
       "    </tr>\n",
       "    <tr>\n",
       "      <th>6</th>\n",
       "      <td>1483811640</td>\n",
       "      <td>65</td>\n",
       "      <td>42</td>\n",
       "      <td>7.1</td>\n",
       "      <td>3.9</td>\n",
       "      <td>8.8</td>\n",
       "      <td>236</td>\n",
       "      <td>78</td>\n",
       "      <td>45</td>\n",
       "      <td>11.5</td>\n",
       "      <td>4.8</td>\n",
       "      <td>63</td>\n",
       "      <td>145</td>\n",
       "      <td>816</td>\n",
       "      <td>543.8</td>\n",
       "      <td>0</td>\n",
       "    </tr>\n",
       "    <tr>\n",
       "      <th>7</th>\n",
       "      <td>1396615953</td>\n",
       "      <td>72</td>\n",
       "      <td>43</td>\n",
       "      <td>7.4</td>\n",
       "      <td>3.7</td>\n",
       "      <td>9.0</td>\n",
       "      <td>162</td>\n",
       "      <td>106</td>\n",
       "      <td>29</td>\n",
       "      <td>10.6</td>\n",
       "      <td>4.5</td>\n",
       "      <td>69</td>\n",
       "      <td>113</td>\n",
       "      <td>726</td>\n",
       "      <td>468.0</td>\n",
       "      <td>0</td>\n",
       "    </tr>\n",
       "    <tr>\n",
       "      <th>8</th>\n",
       "      <td>1432015518</td>\n",
       "      <td>281</td>\n",
       "      <td>43</td>\n",
       "      <td>7.4</td>\n",
       "      <td>3.5</td>\n",
       "      <td>12.0</td>\n",
       "      <td>230</td>\n",
       "      <td>85</td>\n",
       "      <td>44</td>\n",
       "      <td>10.5</td>\n",
       "      <td>5.9</td>\n",
       "      <td>59</td>\n",
       "      <td>55</td>\n",
       "      <td>309</td>\n",
       "      <td>518.5</td>\n",
       "      <td>1</td>\n",
       "    </tr>\n",
       "    <tr>\n",
       "      <th>9</th>\n",
       "      <td>864207157</td>\n",
       "      <td>61</td>\n",
       "      <td>50</td>\n",
       "      <td>7.5</td>\n",
       "      <td>3.3</td>\n",
       "      <td>8.4</td>\n",
       "      <td>153</td>\n",
       "      <td>69</td>\n",
       "      <td>31</td>\n",
       "      <td>11.4</td>\n",
       "      <td>5.5</td>\n",
       "      <td>56</td>\n",
       "      <td>137</td>\n",
       "      <td>206</td>\n",
       "      <td>280.2</td>\n",
       "      <td>1</td>\n",
       "    </tr>\n",
       "    <tr>\n",
       "      <th>10</th>\n",
       "      <td>1405617480</td>\n",
       "      <td>9</td>\n",
       "      <td>52</td>\n",
       "      <td>7.8</td>\n",
       "      <td>3.6</td>\n",
       "      <td>8.8</td>\n",
       "      <td>195</td>\n",
       "      <td>83</td>\n",
       "      <td>31</td>\n",
       "      <td>10.8</td>\n",
       "      <td>5.8</td>\n",
       "      <td>53</td>\n",
       "      <td>182</td>\n",
       "      <td>488</td>\n",
       "      <td>380.2</td>\n",
       "      <td>2</td>\n",
       "    </tr>\n",
       "    <tr>\n",
       "      <th>11</th>\n",
       "      <td>1482211717</td>\n",
       "      <td>38</td>\n",
       "      <td>55</td>\n",
       "      <td>8.1</td>\n",
       "      <td>3.7</td>\n",
       "      <td>18.0</td>\n",
       "      <td>298</td>\n",
       "      <td>98</td>\n",
       "      <td>25</td>\n",
       "      <td>11.4</td>\n",
       "      <td>5.3</td>\n",
       "      <td>62</td>\n",
       "      <td>139</td>\n",
       "      <td>237</td>\n",
       "      <td>572.4</td>\n",
       "      <td>2</td>\n",
       "    </tr>\n",
       "    <tr>\n",
       "      <th>12</th>\n",
       "      <td>1373724340</td>\n",
       "      <td>214</td>\n",
       "      <td>55</td>\n",
       "      <td>7.3</td>\n",
       "      <td>3.6</td>\n",
       "      <td>11.8</td>\n",
       "      <td>216</td>\n",
       "      <td>67</td>\n",
       "      <td>33</td>\n",
       "      <td>10.6</td>\n",
       "      <td>6.9</td>\n",
       "      <td>57</td>\n",
       "      <td>62</td>\n",
       "      <td>126</td>\n",
       "      <td>434.3</td>\n",
       "      <td>1</td>\n",
       "    </tr>\n",
       "    <tr>\n",
       "      <th>13</th>\n",
       "      <td>1406116319</td>\n",
       "      <td>22</td>\n",
       "      <td>56</td>\n",
       "      <td>7.2</td>\n",
       "      <td>3.4</td>\n",
       "      <td>9.7</td>\n",
       "      <td>178</td>\n",
       "      <td>69</td>\n",
       "      <td>37</td>\n",
       "      <td>9.9</td>\n",
       "      <td>7.4</td>\n",
       "      <td>56</td>\n",
       "      <td>132</td>\n",
       "      <td>164</td>\n",
       "      <td>570.4</td>\n",
       "      <td>1</td>\n",
       "    </tr>\n",
       "    <tr>\n",
       "      <th>14</th>\n",
       "      <td>1511626260</td>\n",
       "      <td>225</td>\n",
       "      <td>56</td>\n",
       "      <td>8.0</td>\n",
       "      <td>3.6</td>\n",
       "      <td>9.9</td>\n",
       "      <td>211</td>\n",
       "      <td>64</td>\n",
       "      <td>38</td>\n",
       "      <td>10.7</td>\n",
       "      <td>5.7</td>\n",
       "      <td>65</td>\n",
       "      <td>53</td>\n",
       "      <td>104</td>\n",
       "      <td>417.5</td>\n",
       "      <td>1</td>\n",
       "    </tr>\n",
       "    <tr>\n",
       "      <th>15</th>\n",
       "      <td>1436814124</td>\n",
       "      <td>5</td>\n",
       "      <td>60</td>\n",
       "      <td>7.7</td>\n",
       "      <td>3.2</td>\n",
       "      <td>10.0</td>\n",
       "      <td>166</td>\n",
       "      <td>88</td>\n",
       "      <td>25</td>\n",
       "      <td>12.1</td>\n",
       "      <td>4.4</td>\n",
       "      <td>71</td>\n",
       "      <td>127</td>\n",
       "      <td>171</td>\n",
       "      <td>547.5</td>\n",
       "      <td>1</td>\n",
       "    </tr>\n",
       "    <tr>\n",
       "      <th>16</th>\n",
       "      <td>1461711245</td>\n",
       "      <td>251</td>\n",
       "      <td>65</td>\n",
       "      <td>8.1</td>\n",
       "      <td>3.2</td>\n",
       "      <td>10.6</td>\n",
       "      <td>145</td>\n",
       "      <td>64</td>\n",
       "      <td>24</td>\n",
       "      <td>9.1</td>\n",
       "      <td>5.8</td>\n",
       "      <td>64</td>\n",
       "      <td>45</td>\n",
       "      <td>142</td>\n",
       "      <td>467.2</td>\n",
       "      <td>1</td>\n",
       "    </tr>\n",
       "    <tr>\n",
       "      <th>17</th>\n",
       "      <td>864141871</td>\n",
       "      <td>59</td>\n",
       "      <td>66</td>\n",
       "      <td>7.5</td>\n",
       "      <td>3.9</td>\n",
       "      <td>15.6</td>\n",
       "      <td>175</td>\n",
       "      <td>78</td>\n",
       "      <td>36</td>\n",
       "      <td>11.2</td>\n",
       "      <td>6.2</td>\n",
       "      <td>63</td>\n",
       "      <td>199</td>\n",
       "      <td>193</td>\n",
       "      <td>516.3</td>\n",
       "      <td>2</td>\n",
       "    </tr>\n",
       "    <tr>\n",
       "      <th>18</th>\n",
       "      <td>1513104438</td>\n",
       "      <td>43</td>\n",
       "      <td>67</td>\n",
       "      <td>7.9</td>\n",
       "      <td>3.9</td>\n",
       "      <td>16.7</td>\n",
       "      <td>162</td>\n",
       "      <td>86</td>\n",
       "      <td>37</td>\n",
       "      <td>11.5</td>\n",
       "      <td>6.2</td>\n",
       "      <td>60</td>\n",
       "      <td>148</td>\n",
       "      <td>149</td>\n",
       "      <td>362.2</td>\n",
       "      <td>2</td>\n",
       "    </tr>\n",
       "    <tr>\n",
       "      <th>19</th>\n",
       "      <td>1422815333</td>\n",
       "      <td>1</td>\n",
       "      <td>68</td>\n",
       "      <td>7.1</td>\n",
       "      <td>3.9</td>\n",
       "      <td>10.6</td>\n",
       "      <td>227</td>\n",
       "      <td>68</td>\n",
       "      <td>17</td>\n",
       "      <td>11.7</td>\n",
       "      <td>5.5</td>\n",
       "      <td>59</td>\n",
       "      <td>102</td>\n",
       "      <td>216</td>\n",
       "      <td>458.9</td>\n",
       "      <td>0</td>\n",
       "    </tr>\n",
       "    <tr>\n",
       "      <th>20</th>\n",
       "      <td>1458511810</td>\n",
       "      <td>64</td>\n",
       "      <td>68</td>\n",
       "      <td>7.6</td>\n",
       "      <td>3.5</td>\n",
       "      <td>14.0</td>\n",
       "      <td>181</td>\n",
       "      <td>63</td>\n",
       "      <td>43</td>\n",
       "      <td>10.1</td>\n",
       "      <td>7.1</td>\n",
       "      <td>58</td>\n",
       "      <td>135</td>\n",
       "      <td>244</td>\n",
       "      <td>397.6</td>\n",
       "      <td>1</td>\n",
       "    </tr>\n",
       "    <tr>\n",
       "      <th>21</th>\n",
       "      <td>1511310022</td>\n",
       "      <td>35</td>\n",
       "      <td>70</td>\n",
       "      <td>7.8</td>\n",
       "      <td>3.7</td>\n",
       "      <td>14.0</td>\n",
       "      <td>290</td>\n",
       "      <td>93</td>\n",
       "      <td>46</td>\n",
       "      <td>10.7</td>\n",
       "      <td>7.2</td>\n",
       "      <td>49</td>\n",
       "      <td>149</td>\n",
       "      <td>326</td>\n",
       "      <td>347.8</td>\n",
       "      <td>2</td>\n",
       "    </tr>\n",
       "    <tr>\n",
       "      <th>22</th>\n",
       "      <td>1501270497</td>\n",
       "      <td>54</td>\n",
       "      <td>72</td>\n",
       "      <td>7.2</td>\n",
       "      <td>3.7</td>\n",
       "      <td>20.7</td>\n",
       "      <td>187</td>\n",
       "      <td>85</td>\n",
       "      <td>32</td>\n",
       "      <td>10.8</td>\n",
       "      <td>5.6</td>\n",
       "      <td>54</td>\n",
       "      <td>116</td>\n",
       "      <td>391</td>\n",
       "      <td>446.3</td>\n",
       "      <td>2</td>\n",
       "    </tr>\n",
       "    <tr>\n",
       "      <th>23</th>\n",
       "      <td>864142588</td>\n",
       "      <td>60</td>\n",
       "      <td>73</td>\n",
       "      <td>7.7</td>\n",
       "      <td>3.6</td>\n",
       "      <td>13.1</td>\n",
       "      <td>186</td>\n",
       "      <td>73</td>\n",
       "      <td>34</td>\n",
       "      <td>10.6</td>\n",
       "      <td>7.9</td>\n",
       "      <td>50</td>\n",
       "      <td>152</td>\n",
       "      <td>267</td>\n",
       "      <td>334.7</td>\n",
       "      <td>2</td>\n",
       "    </tr>\n",
       "    <tr>\n",
       "      <th>24</th>\n",
       "      <td>1419604346</td>\n",
       "      <td>98</td>\n",
       "      <td>75</td>\n",
       "      <td>6.9</td>\n",
       "      <td>3.5</td>\n",
       "      <td>10.1</td>\n",
       "      <td>305</td>\n",
       "      <td>67</td>\n",
       "      <td>21</td>\n",
       "      <td>10.5</td>\n",
       "      <td>6.3</td>\n",
       "      <td>57</td>\n",
       "      <td>164</td>\n",
       "      <td>210</td>\n",
       "      <td>365.2</td>\n",
       "      <td>1</td>\n",
       "    </tr>\n",
       "    <tr>\n",
       "      <th>25</th>\n",
       "      <td>864142632</td>\n",
       "      <td>57</td>\n",
       "      <td>78</td>\n",
       "      <td>7.6</td>\n",
       "      <td>3.7</td>\n",
       "      <td>12.5</td>\n",
       "      <td>258</td>\n",
       "      <td>116</td>\n",
       "      <td>24</td>\n",
       "      <td>10.6</td>\n",
       "      <td>6.1</td>\n",
       "      <td>56</td>\n",
       "      <td>194</td>\n",
       "      <td>132</td>\n",
       "      <td>316.0</td>\n",
       "      <td>2</td>\n",
       "    </tr>\n",
       "    <tr>\n",
       "      <th>26</th>\n",
       "      <td>862968449</td>\n",
       "      <td>103</td>\n",
       "      <td>79</td>\n",
       "      <td>8.0</td>\n",
       "      <td>3.8</td>\n",
       "      <td>10.1</td>\n",
       "      <td>289</td>\n",
       "      <td>82</td>\n",
       "      <td>42</td>\n",
       "      <td>10.6</td>\n",
       "      <td>2.6</td>\n",
       "      <td>71</td>\n",
       "      <td>110</td>\n",
       "      <td>179</td>\n",
       "      <td>462.2</td>\n",
       "      <td>1</td>\n",
       "    </tr>\n",
       "    <tr>\n",
       "      <th>27</th>\n",
       "      <td>1436725420</td>\n",
       "      <td>79</td>\n",
       "      <td>80</td>\n",
       "      <td>7.1</td>\n",
       "      <td>3.6</td>\n",
       "      <td>17.9</td>\n",
       "      <td>208</td>\n",
       "      <td>97</td>\n",
       "      <td>41</td>\n",
       "      <td>10.4</td>\n",
       "      <td>6.0</td>\n",
       "      <td>61</td>\n",
       "      <td>145</td>\n",
       "      <td>366</td>\n",
       "      <td>417.9</td>\n",
       "      <td>2</td>\n",
       "    </tr>\n",
       "    <tr>\n",
       "      <th>28</th>\n",
       "      <td>1362628666</td>\n",
       "      <td>13</td>\n",
       "      <td>81</td>\n",
       "      <td>7.4</td>\n",
       "      <td>3.4</td>\n",
       "      <td>12.4</td>\n",
       "      <td>253</td>\n",
       "      <td>80</td>\n",
       "      <td>27</td>\n",
       "      <td>11.0</td>\n",
       "      <td>6.7</td>\n",
       "      <td>62</td>\n",
       "      <td>122</td>\n",
       "      <td>129</td>\n",
       "      <td>433.4</td>\n",
       "      <td>1</td>\n",
       "    </tr>\n",
       "    <tr>\n",
       "      <th>29</th>\n",
       "      <td>1373724159</td>\n",
       "      <td>91</td>\n",
       "      <td>81</td>\n",
       "      <td>7.4</td>\n",
       "      <td>3.8</td>\n",
       "      <td>13.3</td>\n",
       "      <td>225</td>\n",
       "      <td>97</td>\n",
       "      <td>38</td>\n",
       "      <td>10.5</td>\n",
       "      <td>4.9</td>\n",
       "      <td>58</td>\n",
       "      <td>187</td>\n",
       "      <td>297</td>\n",
       "      <td>258.5</td>\n",
       "      <td>2</td>\n",
       "    </tr>\n",
       "    <tr>\n",
       "      <th>30</th>\n",
       "      <td>863934320</td>\n",
       "      <td>203</td>\n",
       "      <td>82</td>\n",
       "      <td>7.7</td>\n",
       "      <td>3.4</td>\n",
       "      <td>8.6</td>\n",
       "      <td>255</td>\n",
       "      <td>122</td>\n",
       "      <td>47</td>\n",
       "      <td>10.9</td>\n",
       "      <td>5.8</td>\n",
       "      <td>71</td>\n",
       "      <td>119</td>\n",
       "      <td>237</td>\n",
       "      <td>491.9</td>\n",
       "      <td>1</td>\n",
       "    </tr>\n",
       "    <tr>\n",
       "      <th>31</th>\n",
       "      <td>1361557097</td>\n",
       "      <td>8</td>\n",
       "      <td>83</td>\n",
       "      <td>7.6</td>\n",
       "      <td>3.7</td>\n",
       "      <td>11.6</td>\n",
       "      <td>216</td>\n",
       "      <td>124</td>\n",
       "      <td>36</td>\n",
       "      <td>11.1</td>\n",
       "      <td>5.3</td>\n",
       "      <td>56</td>\n",
       "      <td>134</td>\n",
       "      <td>175</td>\n",
       "      <td>295.5</td>\n",
       "      <td>2</td>\n",
       "    </tr>\n",
       "    <tr>\n",
       "      <th>32</th>\n",
       "      <td>1465611121</td>\n",
       "      <td>7</td>\n",
       "      <td>83</td>\n",
       "      <td>9.2</td>\n",
       "      <td>3.7</td>\n",
       "      <td>12.5</td>\n",
       "      <td>228</td>\n",
       "      <td>93</td>\n",
       "      <td>52</td>\n",
       "      <td>10.2</td>\n",
       "      <td>5.2</td>\n",
       "      <td>38</td>\n",
       "      <td>170</td>\n",
       "      <td>530</td>\n",
       "      <td>415.6</td>\n",
       "      <td>2</td>\n",
       "    </tr>\n",
       "    <tr>\n",
       "      <th>33</th>\n",
       "      <td>1394819711</td>\n",
       "      <td>110</td>\n",
       "      <td>83</td>\n",
       "      <td>7.6</td>\n",
       "      <td>3.5</td>\n",
       "      <td>14.8</td>\n",
       "      <td>234</td>\n",
       "      <td>85</td>\n",
       "      <td>31</td>\n",
       "      <td>11.0</td>\n",
       "      <td>5.7</td>\n",
       "      <td>69</td>\n",
       "      <td>126</td>\n",
       "      <td>154</td>\n",
       "      <td>543.1</td>\n",
       "      <td>1</td>\n",
       "    </tr>\n",
       "    <tr>\n",
       "      <th>34</th>\n",
       "      <td>1437612545</td>\n",
       "      <td>46</td>\n",
       "      <td>84</td>\n",
       "      <td>7.2</td>\n",
       "      <td>3.5</td>\n",
       "      <td>14.4</td>\n",
       "      <td>202</td>\n",
       "      <td>83</td>\n",
       "      <td>48</td>\n",
       "      <td>11.1</td>\n",
       "      <td>5.0</td>\n",
       "      <td>55</td>\n",
       "      <td>185</td>\n",
       "      <td>280</td>\n",
       "      <td>508.9</td>\n",
       "      <td>2</td>\n",
       "    </tr>\n",
       "    <tr>\n",
       "      <th>35</th>\n",
       "      <td>1477034833</td>\n",
       "      <td>47</td>\n",
       "      <td>84</td>\n",
       "      <td>8.5</td>\n",
       "      <td>3.9</td>\n",
       "      <td>17.0</td>\n",
       "      <td>271</td>\n",
       "      <td>78</td>\n",
       "      <td>33</td>\n",
       "      <td>11.1</td>\n",
       "      <td>4.8</td>\n",
       "      <td>62</td>\n",
       "      <td>161</td>\n",
       "      <td>307</td>\n",
       "      <td>387.2</td>\n",
       "      <td>2</td>\n",
       "    </tr>\n",
       "    <tr>\n",
       "      <th>36</th>\n",
       "      <td>1494659514</td>\n",
       "      <td>34</td>\n",
       "      <td>84</td>\n",
       "      <td>7.0</td>\n",
       "      <td>3.5</td>\n",
       "      <td>12.0</td>\n",
       "      <td>246</td>\n",
       "      <td>77</td>\n",
       "      <td>36</td>\n",
       "      <td>11.7</td>\n",
       "      <td>7.5</td>\n",
       "      <td>51</td>\n",
       "      <td>191</td>\n",
       "      <td>126</td>\n",
       "      <td>429.4</td>\n",
       "      <td>2</td>\n",
       "    </tr>\n",
       "    <tr>\n",
       "      <th>37</th>\n",
       "      <td>1417215391</td>\n",
       "      <td>12</td>\n",
       "      <td>85</td>\n",
       "      <td>7.1</td>\n",
       "      <td>3.5</td>\n",
       "      <td>14.3</td>\n",
       "      <td>292</td>\n",
       "      <td>111</td>\n",
       "      <td>27</td>\n",
       "      <td>11.2</td>\n",
       "      <td>5.0</td>\n",
       "      <td>58</td>\n",
       "      <td>115</td>\n",
       "      <td>224</td>\n",
       "      <td>499.4</td>\n",
       "      <td>2</td>\n",
       "    </tr>\n",
       "    <tr>\n",
       "      <th>38</th>\n",
       "      <td>1405617480</td>\n",
       "      <td>9</td>\n",
       "      <td>87</td>\n",
       "      <td>8.4</td>\n",
       "      <td>3.4</td>\n",
       "      <td>10.4</td>\n",
       "      <td>179</td>\n",
       "      <td>75</td>\n",
       "      <td>31</td>\n",
       "      <td>10.4</td>\n",
       "      <td>5.6</td>\n",
       "      <td>61</td>\n",
       "      <td>161</td>\n",
       "      <td>293</td>\n",
       "      <td>328.5</td>\n",
       "      <td>1</td>\n",
       "    </tr>\n",
       "    <tr>\n",
       "      <th>39</th>\n",
       "      <td>1401416254</td>\n",
       "      <td>67</td>\n",
       "      <td>87</td>\n",
       "      <td>7.1</td>\n",
       "      <td>3.6</td>\n",
       "      <td>13.6</td>\n",
       "      <td>229</td>\n",
       "      <td>89</td>\n",
       "      <td>35</td>\n",
       "      <td>10.3</td>\n",
       "      <td>7.1</td>\n",
       "      <td>59</td>\n",
       "      <td>154</td>\n",
       "      <td>137</td>\n",
       "      <td>513.5</td>\n",
       "      <td>2</td>\n",
       "    </tr>\n",
       "    <tr>\n",
       "      <th>40</th>\n",
       "      <td>1373724289</td>\n",
       "      <td>84</td>\n",
       "      <td>88</td>\n",
       "      <td>7.3</td>\n",
       "      <td>3.7</td>\n",
       "      <td>14.8</td>\n",
       "      <td>269</td>\n",
       "      <td>99</td>\n",
       "      <td>38</td>\n",
       "      <td>11.3</td>\n",
       "      <td>5.4</td>\n",
       "      <td>54</td>\n",
       "      <td>144</td>\n",
       "      <td>159</td>\n",
       "      <td>507.6</td>\n",
       "      <td>2</td>\n",
       "    </tr>\n",
       "    <tr>\n",
       "      <th>41</th>\n",
       "      <td>1399917832</td>\n",
       "      <td>148</td>\n",
       "      <td>88</td>\n",
       "      <td>7.4</td>\n",
       "      <td>3.6</td>\n",
       "      <td>15.3</td>\n",
       "      <td>328</td>\n",
       "      <td>79</td>\n",
       "      <td>29</td>\n",
       "      <td>9.4</td>\n",
       "      <td>8.0</td>\n",
       "      <td>43</td>\n",
       "      <td>189</td>\n",
       "      <td>305</td>\n",
       "      <td>661.7</td>\n",
       "      <td>2</td>\n",
       "    </tr>\n",
       "    <tr>\n",
       "      <th>42</th>\n",
       "      <td>1512209752</td>\n",
       "      <td>73</td>\n",
       "      <td>88</td>\n",
       "      <td>7.5</td>\n",
       "      <td>4.0</td>\n",
       "      <td>16.3</td>\n",
       "      <td>221</td>\n",
       "      <td>100</td>\n",
       "      <td>32</td>\n",
       "      <td>11.0</td>\n",
       "      <td>5.5</td>\n",
       "      <td>64</td>\n",
       "      <td>144</td>\n",
       "      <td>295</td>\n",
       "      <td>351.0</td>\n",
       "      <td>2</td>\n",
       "    </tr>\n",
       "    <tr>\n",
       "      <th>43</th>\n",
       "      <td>1416600150</td>\n",
       "      <td>6</td>\n",
       "      <td>89</td>\n",
       "      <td>7.7</td>\n",
       "      <td>3.5</td>\n",
       "      <td>13.3</td>\n",
       "      <td>245</td>\n",
       "      <td>93</td>\n",
       "      <td>37</td>\n",
       "      <td>11.1</td>\n",
       "      <td>6.2</td>\n",
       "      <td>53</td>\n",
       "      <td>121</td>\n",
       "      <td>224</td>\n",
       "      <td>350.4</td>\n",
       "      <td>2</td>\n",
       "    </tr>\n",
       "    <tr>\n",
       "      <th>44</th>\n",
       "      <td>1394819674</td>\n",
       "      <td>50</td>\n",
       "      <td>89</td>\n",
       "      <td>7.3</td>\n",
       "      <td>3.9</td>\n",
       "      <td>15.8</td>\n",
       "      <td>284</td>\n",
       "      <td>119</td>\n",
       "      <td>45</td>\n",
       "      <td>11.6</td>\n",
       "      <td>6.4</td>\n",
       "      <td>49</td>\n",
       "      <td>158</td>\n",
       "      <td>216</td>\n",
       "      <td>598.3</td>\n",
       "      <td>2</td>\n",
       "    </tr>\n",
       "    <tr>\n",
       "      <th>45</th>\n",
       "      <td>1465611121</td>\n",
       "      <td>41</td>\n",
       "      <td>89</td>\n",
       "      <td>7.6</td>\n",
       "      <td>3.6</td>\n",
       "      <td>19.6</td>\n",
       "      <td>319</td>\n",
       "      <td>101</td>\n",
       "      <td>40</td>\n",
       "      <td>11.5</td>\n",
       "      <td>6.9</td>\n",
       "      <td>55</td>\n",
       "      <td>144</td>\n",
       "      <td>171</td>\n",
       "      <td>522.2</td>\n",
       "      <td>2</td>\n",
       "    </tr>\n",
       "    <tr>\n",
       "      <th>46</th>\n",
       "      <td>1501556256</td>\n",
       "      <td>42</td>\n",
       "      <td>89</td>\n",
       "      <td>8.1</td>\n",
       "      <td>3.6</td>\n",
       "      <td>13.9</td>\n",
       "      <td>156</td>\n",
       "      <td>98</td>\n",
       "      <td>52</td>\n",
       "      <td>10.0</td>\n",
       "      <td>4.6</td>\n",
       "      <td>62</td>\n",
       "      <td>222</td>\n",
       "      <td>456</td>\n",
       "      <td>308.0</td>\n",
       "      <td>2</td>\n",
       "    </tr>\n",
       "    <tr>\n",
       "      <th>47</th>\n",
       "      <td>1514410118</td>\n",
       "      <td>63</td>\n",
       "      <td>91</td>\n",
       "      <td>7.0</td>\n",
       "      <td>3.8</td>\n",
       "      <td>14.0</td>\n",
       "      <td>247</td>\n",
       "      <td>76</td>\n",
       "      <td>35</td>\n",
       "      <td>11.3</td>\n",
       "      <td>7.2</td>\n",
       "      <td>58</td>\n",
       "      <td>146</td>\n",
       "      <td>341</td>\n",
       "      <td>256.6</td>\n",
       "      <td>2</td>\n",
       "    </tr>\n",
       "    <tr>\n",
       "      <th>48</th>\n",
       "      <td>1361557226</td>\n",
       "      <td>11</td>\n",
       "      <td>92</td>\n",
       "      <td>8.7</td>\n",
       "      <td>3.7</td>\n",
       "      <td>7.5</td>\n",
       "      <td>303</td>\n",
       "      <td>90</td>\n",
       "      <td>30</td>\n",
       "      <td>11.0</td>\n",
       "      <td>4.4</td>\n",
       "      <td>59</td>\n",
       "      <td>207</td>\n",
       "      <td>599</td>\n",
       "      <td>288.0</td>\n",
       "      <td>2</td>\n",
       "    </tr>\n",
       "    <tr>\n",
       "      <th>49</th>\n",
       "      <td>1505910276</td>\n",
       "      <td>10</td>\n",
       "      <td>93</td>\n",
       "      <td>7.9</td>\n",
       "      <td>4.1</td>\n",
       "      <td>11.0</td>\n",
       "      <td>220</td>\n",
       "      <td>95</td>\n",
       "      <td>30</td>\n",
       "      <td>11.1</td>\n",
       "      <td>6.4</td>\n",
       "      <td>54</td>\n",
       "      <td>122</td>\n",
       "      <td>162</td>\n",
       "      <td>357.3</td>\n",
       "      <td>2</td>\n",
       "    </tr>\n",
       "    <tr>\n",
       "      <th>50</th>\n",
       "      <td>1438312420</td>\n",
       "      <td>2</td>\n",
       "      <td>94</td>\n",
       "      <td>7.4</td>\n",
       "      <td>3.7</td>\n",
       "      <td>13.2</td>\n",
       "      <td>247</td>\n",
       "      <td>82</td>\n",
       "      <td>40</td>\n",
       "      <td>11.3</td>\n",
       "      <td>7.5</td>\n",
       "      <td>48</td>\n",
       "      <td>114</td>\n",
       "      <td>166</td>\n",
       "      <td>462.2</td>\n",
       "      <td>2</td>\n",
       "    </tr>\n",
       "    <tr>\n",
       "      <th>51</th>\n",
       "      <td>864770057</td>\n",
       "      <td>62</td>\n",
       "      <td>95</td>\n",
       "      <td>7.3</td>\n",
       "      <td>3.7</td>\n",
       "      <td>16.2</td>\n",
       "      <td>264</td>\n",
       "      <td>80</td>\n",
       "      <td>38</td>\n",
       "      <td>11.3</td>\n",
       "      <td>6.2</td>\n",
       "      <td>59</td>\n",
       "      <td>137</td>\n",
       "      <td>166</td>\n",
       "      <td>389.3</td>\n",
       "      <td>2</td>\n",
       "    </tr>\n",
       "    <tr>\n",
       "      <th>52</th>\n",
       "      <td>1436814124</td>\n",
       "      <td>5</td>\n",
       "      <td>95</td>\n",
       "      <td>7.0</td>\n",
       "      <td>3.3</td>\n",
       "      <td>13.0</td>\n",
       "      <td>159</td>\n",
       "      <td>88</td>\n",
       "      <td>28</td>\n",
       "      <td>13.5</td>\n",
       "      <td>6.8</td>\n",
       "      <td>58</td>\n",
       "      <td>142</td>\n",
       "      <td>140</td>\n",
       "      <td>355.3</td>\n",
       "      <td>2</td>\n",
       "    </tr>\n",
       "    <tr>\n",
       "      <th>53</th>\n",
       "      <td>1449313898</td>\n",
       "      <td>112</td>\n",
       "      <td>97</td>\n",
       "      <td>7.5</td>\n",
       "      <td>3.3</td>\n",
       "      <td>10.5</td>\n",
       "      <td>227</td>\n",
       "      <td>90</td>\n",
       "      <td>43</td>\n",
       "      <td>10.3</td>\n",
       "      <td>5.1</td>\n",
       "      <td>62</td>\n",
       "      <td>128</td>\n",
       "      <td>164</td>\n",
       "      <td>244.5</td>\n",
       "      <td>1</td>\n",
       "    </tr>\n",
       "    <tr>\n",
       "      <th>54</th>\n",
       "      <td>1401416315</td>\n",
       "      <td>202</td>\n",
       "      <td>97</td>\n",
       "      <td>8.3</td>\n",
       "      <td>3.4</td>\n",
       "      <td>15.8</td>\n",
       "      <td>313</td>\n",
       "      <td>82</td>\n",
       "      <td>37</td>\n",
       "      <td>10.7</td>\n",
       "      <td>7.9</td>\n",
       "      <td>63</td>\n",
       "      <td>60</td>\n",
       "      <td>161</td>\n",
       "      <td>308.8</td>\n",
       "      <td>1</td>\n",
       "    </tr>\n",
       "  </tbody>\n",
       "</table>\n",
       "</div>"
      ],
      "text/plain": [
       "        global  cowid  days   TP  ALB   BUN  CHO  GOT  GGT    CA   IP  GLU  \\\n",
       "0    863934238    205    31  7.8  3.4   8.0  153   91   20  10.9  4.9   51   \n",
       "1    864770057     62    32  6.8  3.8  11.5  178   67   27  10.5  5.0   54   \n",
       "2    856563216    297    32  7.1  2.8   8.2  161   52   23  10.0  6.6   64   \n",
       "3   1399102221     44    33  7.4  3.6  10.5  211   81   26  10.5  5.8   52   \n",
       "4   1461212865     87    37  6.9  3.6  10.4  165   76   25  10.4  4.9   54   \n",
       "5    864142540     48    37  7.3  3.8   8.6  159   85   23  10.4  5.5   58   \n",
       "6   1483811640     65    42  7.1  3.9   8.8  236   78   45  11.5  4.8   63   \n",
       "7   1396615953     72    43  7.4  3.7   9.0  162  106   29  10.6  4.5   69   \n",
       "8   1432015518    281    43  7.4  3.5  12.0  230   85   44  10.5  5.9   59   \n",
       "9    864207157     61    50  7.5  3.3   8.4  153   69   31  11.4  5.5   56   \n",
       "10  1405617480      9    52  7.8  3.6   8.8  195   83   31  10.8  5.8   53   \n",
       "11  1482211717     38    55  8.1  3.7  18.0  298   98   25  11.4  5.3   62   \n",
       "12  1373724340    214    55  7.3  3.6  11.8  216   67   33  10.6  6.9   57   \n",
       "13  1406116319     22    56  7.2  3.4   9.7  178   69   37   9.9  7.4   56   \n",
       "14  1511626260    225    56  8.0  3.6   9.9  211   64   38  10.7  5.7   65   \n",
       "15  1436814124      5    60  7.7  3.2  10.0  166   88   25  12.1  4.4   71   \n",
       "16  1461711245    251    65  8.1  3.2  10.6  145   64   24   9.1  5.8   64   \n",
       "17   864141871     59    66  7.5  3.9  15.6  175   78   36  11.2  6.2   63   \n",
       "18  1513104438     43    67  7.9  3.9  16.7  162   86   37  11.5  6.2   60   \n",
       "19  1422815333      1    68  7.1  3.9  10.6  227   68   17  11.7  5.5   59   \n",
       "20  1458511810     64    68  7.6  3.5  14.0  181   63   43  10.1  7.1   58   \n",
       "21  1511310022     35    70  7.8  3.7  14.0  290   93   46  10.7  7.2   49   \n",
       "22  1501270497     54    72  7.2  3.7  20.7  187   85   32  10.8  5.6   54   \n",
       "23   864142588     60    73  7.7  3.6  13.1  186   73   34  10.6  7.9   50   \n",
       "24  1419604346     98    75  6.9  3.5  10.1  305   67   21  10.5  6.3   57   \n",
       "25   864142632     57    78  7.6  3.7  12.5  258  116   24  10.6  6.1   56   \n",
       "26   862968449    103    79  8.0  3.8  10.1  289   82   42  10.6  2.6   71   \n",
       "27  1436725420     79    80  7.1  3.6  17.9  208   97   41  10.4  6.0   61   \n",
       "28  1362628666     13    81  7.4  3.4  12.4  253   80   27  11.0  6.7   62   \n",
       "29  1373724159     91    81  7.4  3.8  13.3  225   97   38  10.5  4.9   58   \n",
       "30   863934320    203    82  7.7  3.4   8.6  255  122   47  10.9  5.8   71   \n",
       "31  1361557097      8    83  7.6  3.7  11.6  216  124   36  11.1  5.3   56   \n",
       "32  1465611121      7    83  9.2  3.7  12.5  228   93   52  10.2  5.2   38   \n",
       "33  1394819711    110    83  7.6  3.5  14.8  234   85   31  11.0  5.7   69   \n",
       "34  1437612545     46    84  7.2  3.5  14.4  202   83   48  11.1  5.0   55   \n",
       "35  1477034833     47    84  8.5  3.9  17.0  271   78   33  11.1  4.8   62   \n",
       "36  1494659514     34    84  7.0  3.5  12.0  246   77   36  11.7  7.5   51   \n",
       "37  1417215391     12    85  7.1  3.5  14.3  292  111   27  11.2  5.0   58   \n",
       "38  1405617480      9    87  8.4  3.4  10.4  179   75   31  10.4  5.6   61   \n",
       "39  1401416254     67    87  7.1  3.6  13.6  229   89   35  10.3  7.1   59   \n",
       "40  1373724289     84    88  7.3  3.7  14.8  269   99   38  11.3  5.4   54   \n",
       "41  1399917832    148    88  7.4  3.6  15.3  328   79   29   9.4  8.0   43   \n",
       "42  1512209752     73    88  7.5  4.0  16.3  221  100   32  11.0  5.5   64   \n",
       "43  1416600150      6    89  7.7  3.5  13.3  245   93   37  11.1  6.2   53   \n",
       "44  1394819674     50    89  7.3  3.9  15.8  284  119   45  11.6  6.4   49   \n",
       "45  1465611121     41    89  7.6  3.6  19.6  319  101   40  11.5  6.9   55   \n",
       "46  1501556256     42    89  8.1  3.6  13.9  156   98   52  10.0  4.6   62   \n",
       "47  1514410118     63    91  7.0  3.8  14.0  247   76   35  11.3  7.2   58   \n",
       "48  1361557226     11    92  8.7  3.7   7.5  303   90   30  11.0  4.4   59   \n",
       "49  1505910276     10    93  7.9  4.1  11.0  220   95   30  11.1  6.4   54   \n",
       "50  1438312420      2    94  7.4  3.7  13.2  247   82   40  11.3  7.5   48   \n",
       "51   864770057     62    95  7.3  3.7  16.2  264   80   38  11.3  6.2   59   \n",
       "52  1436814124      5    95  7.0  3.3  13.0  159   88   28  13.5  6.8   58   \n",
       "53  1449313898    112    97  7.5  3.3  10.5  227   90   43  10.3  5.1   62   \n",
       "54  1401416315    202    97  8.3  3.4  15.8  313   82   37  10.7  7.9   63   \n",
       "\n",
       "    NH3  NEFA     BHB  clusters  \n",
       "0   109   417   680.4         0  \n",
       "1   111   196   601.6         0  \n",
       "2    57   189   287.9         1  \n",
       "3    97   374  1108.5         0  \n",
       "4   135   608   648.0         0  \n",
       "5   150  1118   759.4         0  \n",
       "6   145   816   543.8         0  \n",
       "7   113   726   468.0         0  \n",
       "8    55   309   518.5         1  \n",
       "9   137   206   280.2         1  \n",
       "10  182   488   380.2         2  \n",
       "11  139   237   572.4         2  \n",
       "12   62   126   434.3         1  \n",
       "13  132   164   570.4         1  \n",
       "14   53   104   417.5         1  \n",
       "15  127   171   547.5         1  \n",
       "16   45   142   467.2         1  \n",
       "17  199   193   516.3         2  \n",
       "18  148   149   362.2         2  \n",
       "19  102   216   458.9         0  \n",
       "20  135   244   397.6         1  \n",
       "21  149   326   347.8         2  \n",
       "22  116   391   446.3         2  \n",
       "23  152   267   334.7         2  \n",
       "24  164   210   365.2         1  \n",
       "25  194   132   316.0         2  \n",
       "26  110   179   462.2         1  \n",
       "27  145   366   417.9         2  \n",
       "28  122   129   433.4         1  \n",
       "29  187   297   258.5         2  \n",
       "30  119   237   491.9         1  \n",
       "31  134   175   295.5         2  \n",
       "32  170   530   415.6         2  \n",
       "33  126   154   543.1         1  \n",
       "34  185   280   508.9         2  \n",
       "35  161   307   387.2         2  \n",
       "36  191   126   429.4         2  \n",
       "37  115   224   499.4         2  \n",
       "38  161   293   328.5         1  \n",
       "39  154   137   513.5         2  \n",
       "40  144   159   507.6         2  \n",
       "41  189   305   661.7         2  \n",
       "42  144   295   351.0         2  \n",
       "43  121   224   350.4         2  \n",
       "44  158   216   598.3         2  \n",
       "45  144   171   522.2         2  \n",
       "46  222   456   308.0         2  \n",
       "47  146   341   256.6         2  \n",
       "48  207   599   288.0         2  \n",
       "49  122   162   357.3         2  \n",
       "50  114   166   462.2         2  \n",
       "51  137   166   389.3         2  \n",
       "52  142   140   355.3         2  \n",
       "53  128   164   244.5         1  \n",
       "54   60   161   308.8         1  "
      ]
     },
     "execution_count": 28,
     "metadata": {},
     "output_type": "execute_result"
    }
   ],
   "source": [
    "df_tr"
   ]
  },
  {
   "cell_type": "code",
   "execution_count": 29,
   "metadata": {},
   "outputs": [],
   "source": [
    "# Sort the dataframe by clusters\n",
    "df_tr = df.sort_values(by=\"clusters\")"
   ]
  },
  {
   "cell_type": "code",
   "execution_count": 30,
   "metadata": {},
   "outputs": [],
   "source": [
    "def color_protein(value):\n",
    "    if value < 6:\n",
    "        color = 'red'\n",
    "    elif value > 8.9:\n",
    "        color = 'green'\n",
    "    else:\n",
    "        color = 'black'\n",
    "\n",
    "    return 'color: %s' % color\n",
    "\n",
    "def color_alb(value):\n",
    "    if value < 3:\n",
    "        color = 'red'\n",
    "    elif value > 3.6:\n",
    "        color = 'green'\n",
    "    else:\n",
    "        color = 'black'\n",
    "\n",
    "    return 'color: %s' % color\n",
    "\n",
    "def color_bun(value):\n",
    "    if value < 13:\n",
    "        color = 'red'\n",
    "    elif value > 17:\n",
    "        color = 'green'\n",
    "    else:\n",
    "        color = 'black'\n",
    "\n",
    "    return 'color: %s' % color\n",
    "\n",
    "def color_nefa(value):\n",
    "    if value > 700:\n",
    "        color = 'red'\n",
    "    elif value < 100:\n",
    "        color = 'green'\n",
    "    else:\n",
    "        color = 'black'\n",
    "\n",
    "    return 'color: %s' % color\n",
    "\n",
    "def color_glu(value):\n",
    "    if value < 42:\n",
    "        color = 'red'\n",
    "    elif value > 68:\n",
    "        color = 'green'\n",
    "    else:\n",
    "        color = 'black'\n",
    "\n",
    "    return 'color: %s' % color\n",
    "\n",
    "def color_ggt(value):\n",
    "    if value > 27:\n",
    "        color = 'red'\n",
    "    elif value < 15 or value > 19:\n",
    "        color = 'green'\n",
    "    else:\n",
    "        color = 'black'\n",
    "\n",
    "    return 'color: %s' % color\n",
    "\n",
    "def color_ca(value):\n",
    "    if value < 8:\n",
    "        color = 'red'\n",
    "    elif value > 11:\n",
    "        color = 'green'\n",
    "    else:\n",
    "        color = 'black'\n",
    "\n",
    "    return 'color: %s' % color\n",
    "\n",
    "def color_ip(value):\n",
    "    if value < 3.5:\n",
    "        color = 'red'\n",
    "    elif value > 8:\n",
    "        color = 'green'\n",
    "    else:\n",
    "        color = 'black'\n",
    "\n",
    "    return 'color: %s' % color\n",
    "\n",
    "def color_bhb(value):\n",
    "    if value > 960:\n",
    "        color = 'red'\n",
    "    elif value < 163:\n",
    "        color = 'green'\n",
    "    else:\n",
    "        color = 'black'\n",
    "\n",
    "    return 'color: %s' % color\n",
    "\n",
    "def color_got(value):\n",
    "    if value > 100:\n",
    "        color = 'red'\n",
    "    else:\n",
    "        color = 'black'\n",
    "\n",
    "    return 'color: %s' % color\n"
   ]
  },
  {
   "cell_type": "code",
   "execution_count": 31,
   "metadata": {},
   "outputs": [],
   "source": [
    "new_df = df_tr.drop(columns=['CHO'])    "
   ]
  },
  {
   "cell_type": "code",
   "execution_count": 32,
   "metadata": {},
   "outputs": [],
   "source": [
    "# Map individual data based on metabolites score limit\n",
    "\n",
    "new_df.style.\\\n",
    "    applymap(color_protein, subset=['TP']).\\\n",
    "    applymap(color_alb, subset=['ALB']).\\\n",
    "    applymap(color_nefa, subset=['NEFA']).\\\n",
    "    applymap(color_ggt, subset=['GGT']).\\\n",
    "    applymap(color_ca, subset=['CA']).\\\n",
    "    applymap(color_ip, subset=['IP']).\\\n",
    "    applymap(color_glu, subset=['GLU']).\\\n",
    "    applymap(color_bhb, subset=['BHB']).\\\n",
    "    applymap(color_got, subset=['GOT']).\\\n",
    "    applymap(color_bun, subset=['BUN']).\\\n",
    "    to_excel('dairyearly.xlsx', engine='openpyxl')"
   ]
  },
  {
   "cell_type": "code",
   "execution_count": 33,
   "metadata": {},
   "outputs": [
    {
     "name": "stdout",
     "output_type": "stream",
     "text": [
      "Cow ID that need monitoring of Protein Status: [863934238, 864770057, 1399102221, 1461212865, 864142540, 1483811640, 1396615953, 1422815333, 1405617480, 863934320, 1362628666, 1449313898, 862968449, 1419604346, 856563216, 1436814124, 1511626260, 1461711245, 1432015518, 1406116319, 1373724340, 864207157, 1361557226, 1505910276, 1494659514, 1465611121, 1361557097, 1405617480, 864142632]\n",
      "Cow ID that needs monitoring of Energy Balance / Stress: [1399102221, 864142540, 1483811640, 1396615953, 1465611121]\n",
      "Cow ID that need monitoring of Liver Status: [1483811640, 1396615953, 1405617480, 1394819711, 863934320, 1449313898, 862968449, 1458511810, 1401416315, 1511626260, 1432015518, 1406116319, 1373724340, 864207157, 1399917832, 1512209752, 1416600150, 1394819674, 864141871, 1501556256, 1373724289, 1361557226, 1505910276, 1438312420, 864770057, 1436814124, 1465611121, 1514410118, 1477034833, 1417215391, 1494659514, 1437612545, 1465611121, 1361557097, 1373724159, 1405617480, 864142632, 864142588, 1501270497, 1511310022, 1513104438, 1401416254, 1436725420]\n",
      "Cow ID that need monitoring of Calcium/Phosphorus status: [862968449]\n"
     ]
    }
   ],
   "source": [
    "def main():\n",
    "    pro = df_tr[\"global\"][(df_tr[\"TP\"] < 6) | (df_tr[\"BUN\"] < 13) | (df_tr[\"ALB\"] < 3)].tolist()\n",
    "    eb = df_tr[\"global\"][(df_tr[\"NEFA\"] > 700)| (df_tr[\"GLU\"] < 42) | (df_tr[\"BHB\"] > 960) ].tolist()\n",
    "    liver = df_tr[\"global\"][(df_tr[\"GOT\"] > 100) | (df_tr[\"GGT\"] > 27)].tolist()\n",
    "    caip = df_tr[\"global\"][(df_tr[\"CA\"] < 8) | (df_tr[\"IP\"] < 3.5)].tolist()\n",
    "    \n",
    "    \n",
    "    print(\"Cow ID that need monitoring of Protein Status:\", pro)\n",
    "    print(\"Cow ID that needs monitoring of Energy Balance / Stress:\", eb)\n",
    "    print(\"Cow ID that need monitoring of Liver Status:\", liver)\n",
    "    print(\"Cow ID that need monitoring of Calcium/Phosphorus status:\", caip)\n",
    "    \n",
    "if __name__ == \"__main__\":\n",
    "    main()"
   ]
  },
  {
   "cell_type": "code",
   "execution_count": null,
   "metadata": {},
   "outputs": [],
   "source": []
  }
 ],
 "metadata": {
  "kernelspec": {
   "display_name": "Python 3",
   "language": "python",
   "name": "python3"
  },
  "language_info": {
   "codemirror_mode": {
    "name": "ipython",
    "version": 3
   },
   "file_extension": ".py",
   "mimetype": "text/x-python",
   "name": "python",
   "nbconvert_exporter": "python",
   "pygments_lexer": "ipython3",
   "version": "3.6.5"
  }
 },
 "nbformat": 4,
 "nbformat_minor": 2
}
